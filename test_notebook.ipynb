{
 "cells": [
  {
   "cell_type": "code",
   "execution_count": 80,
   "metadata": {},
   "outputs": [],
   "source": [
    "import os, sys\n",
    "import shutil\n",
    "import pandas as pd\n",
    "import numpy as np"
   ]
  },
  {
   "cell_type": "code",
   "execution_count": 81,
   "metadata": {
    "tags": []
   },
   "outputs": [],
   "source": [
    "# !jt -l\n",
    "# # !jt -T\n",
    "# !jt -r"
   ]
  },
  {
   "cell_type": "code",
   "execution_count": 82,
   "metadata": {
    "tags": []
   },
   "outputs": [
    {
     "output_type": "stream",
     "name": "stdout",
     "text": "main:  c:\\Users\\jgoss\\Documents\\_Olin\\DRF_engineering\\LibGen_KiCad\\tests_ignore\n"
    },
    {
     "output_type": "error",
     "ename": "FileNotFoundError",
     "evalue": "[WinError 2] The system cannot find the file specified: 'c:\\\\Users\\\\jgoss\\\\Documents\\\\_Olin\\\\DRF_engineering\\\\LibGen_KiCad\\\\tests_ignore\\\\tests_ignore'",
     "traceback": [
      "\u001b[1;31m---------------------------------------------------------------------------\u001b[0m",
      "\u001b[1;31mFileNotFoundError\u001b[0m                         Traceback (most recent call last)",
      "\u001b[1;32m<ipython-input-82-681889f66145>\u001b[0m in \u001b[0;36m<module>\u001b[1;34m()\u001b[0m\n\u001b[0;32m      1\u001b[0m \u001b[0mmain\u001b[0m \u001b[1;33m=\u001b[0m \u001b[0mos\u001b[0m\u001b[1;33m.\u001b[0m\u001b[0mgetcwd\u001b[0m\u001b[1;33m(\u001b[0m\u001b[1;33m)\u001b[0m\u001b[1;33m\u001b[0m\u001b[0m\n\u001b[0;32m      2\u001b[0m \u001b[0mprint\u001b[0m\u001b[1;33m(\u001b[0m\u001b[1;34m'main: '\u001b[0m\u001b[1;33m,\u001b[0m \u001b[0mmain\u001b[0m\u001b[1;33m)\u001b[0m\u001b[1;33m\u001b[0m\u001b[0m\n\u001b[1;32m----> 3\u001b[1;33m \u001b[0mos\u001b[0m\u001b[1;33m.\u001b[0m\u001b[0mchdir\u001b[0m\u001b[1;33m(\u001b[0m\u001b[0mmain\u001b[0m \u001b[1;33m+\u001b[0m \u001b[1;34m'\\\\'\u001b[0m \u001b[1;33m+\u001b[0m \u001b[1;34m'tests_ignore'\u001b[0m\u001b[1;33m)\u001b[0m\u001b[1;33m\u001b[0m\u001b[0m\n\u001b[0m\u001b[0;32m      4\u001b[0m \u001b[0mprj\u001b[0m \u001b[1;33m=\u001b[0m \u001b[0mos\u001b[0m\u001b[1;33m.\u001b[0m\u001b[0mgetcwd\u001b[0m\u001b[1;33m(\u001b[0m\u001b[1;33m)\u001b[0m\u001b[1;33m\u001b[0m\u001b[0m\n\u001b[0;32m      5\u001b[0m \u001b[0mprint\u001b[0m\u001b[1;33m(\u001b[0m\u001b[1;34m'prj: '\u001b[0m\u001b[1;33m,\u001b[0m \u001b[0mprj\u001b[0m\u001b[1;33m)\u001b[0m\u001b[1;33m\u001b[0m\u001b[0m\n",
      "\u001b[1;31mFileNotFoundError\u001b[0m: [WinError 2] The system cannot find the file specified: 'c:\\\\Users\\\\jgoss\\\\Documents\\\\_Olin\\\\DRF_engineering\\\\LibGen_KiCad\\\\tests_ignore\\\\tests_ignore'"
     ]
    }
   ],
   "source": [
    "main = os.getcwd()\n",
    "print('main: ', main)\n",
    "os.chdir(main + '\\\\' + 'tests_ignore')\n",
    "prj = os.getcwd()\n",
    "print('prj: ', prj)\n",
    "# os.chdir(main)\n",
    "# os.getcwd()"
   ]
  },
  {
   "cell_type": "code",
   "execution_count": 83,
   "metadata": {
    "tags": []
   },
   "outputs": [
    {
     "output_type": "stream",
     "name": "stdout",
     "text": "c:\\Users\\jgoss\\Documents\\_Olin\\DRF_engineering\\LibGen_KiCad\\tests_ignore\n[]\n['1217861-1.dcm', 'ECG_MOUSE-cache.lib', 'ECG_MOUSE.csv', 'ECG_MOUSE.lib', 'ECG_MOUSE.net', 'main_copy.lib', 'orig_ECG_MOUSE', 'templibrary.lib', 'test_copy']\n"
    }
   ],
   "source": [
    "for root, dirs, files in os.walk(prj):\n",
    "    print(root)\n",
    "    print(dirs)\n",
    "    print(files)"
   ]
  },
  {
   "cell_type": "code",
   "execution_count": 84,
   "metadata": {
    "tags": []
   },
   "outputs": [
    {
     "output_type": "stream",
     "name": "stdout",
     "text": "['1217861-1.dcm', 'ECG_MOUSE-cache.lib', 'ECG_MOUSE.csv', 'ECG_MOUSE.lib', 'ECG_MOUSE.net', 'main_copy.lib', 'orig_ECG_MOUSE', 'templibrary.lib', 'test_copy']\n"
    }
   ],
   "source": [
    "shutil.copy2('ECG_MOUSE.csv', 'test_copy')\n",
    "for root, dirs, files in os.walk(prj):\n",
    "    print(files)"
   ]
  },
  {
   "cell_type": "markdown",
   "metadata": {},
   "source": [
    "## Extract .csv data from file into DataFrame"
   ]
  },
  {
   "cell_type": "code",
   "execution_count": 103,
   "metadata": {
    "tags": []
   },
   "outputs": [
    {
     "output_type": "stream",
     "name": "stdout",
     "text": "Reference  Value                                          Footprint  \\\n1       TP1   5019  Measurement_Points:Test_Point_Keystone_5019_Mi...   \n2       C20    .1u                              Capacitors_SMD:C_0805   \n3       C18    47u                     Capacitors_SMD:CP_Elec_6.3x7.7   \n4        D2  GREEN                                      LEDs:LED_0603   \n5        D1  GREEN                                      LEDs:LED_0603   \n\n                                           Datasheet          Manufacturer  \\\n1      http://www.keyelco.com/product-pdf.cfm?p=1357  Keystone Electronics   \n2  https://content.kemet.com/datasheets/KEM_C1002...                 Kemet   \n3  https://industrial.panasonic.com/ww/products/c...             Panasonic   \n4  https://media.digikey.com/pdf/Data%20Sheets/Li...                LITEON   \n5  https://media.digikey.com/pdf/Data%20Sheets/Li...                LITEON   \n\n        Part Number Manufacturer Part No. Description Manufacturer_Name  \\\n1              5019                                                       \n2  C0805C104J8RACTU                                                       \n3     EEE-FP1C470AP                                                       \n4      LTST-C190GKT                                                       \n5      LTST-C190GKT                                                       \n\n  Manufacturer_Part_Number  \n1                           \n2                           \n3                           \n4                           \n5                           \n"
    }
   ],
   "source": [
    "mpn = 'Manufacturer Part Number'\n",
    "mpn_ = 'Manufacturer_Part_Number'\n",
    "mpno = 'Manufacturer Part No.'\n",
    "manuf = 'Manufacturer'\n",
    "manuf_ = 'Manufacturer_Name'\n",
    "ampn = 'Alt. Manufacturer Part Number'\n",
    "amanuf = 'Alt. Manufacturer'\n",
    "ref = 'Reference'\n",
    "ds = 'Datasheet'\n",
    "val = 'Value'\n",
    "fp = 'Footprint'\n",
    "\n",
    "with open('test_copy', 'r') as schemtxt:\n",
    "    data = schemtxt.read().splitlines()\n",
    "    headers = data[0].split(', ')       #headers need to be labeled headers\n",
    "    for line in range(0, len(data)):\n",
    "        # data[line] = data[line].split('\",\"')\n",
    "            #replace commas with double => prev. issues @mpns w/commas\n",
    "        data[line] = data[line].replace('\",\"', ',,').strip('\"')\n",
    "        # data[line] = data[line][:-1]\n",
    "        data[line] = data[line].split(',,')\n",
    "        \n",
    "    data = data[1:len(data)]\n",
    "    #re-init data w/o headers\n",
    "\n",
    "    df = pd.DataFrame(data, index = np.arange(1, len(data)+1), columns = headers)\n",
    "#     df[mpn_] = df[mpn_].str.strip('\"')\n",
    "#     df[ref] = df[ref].str.strip('\"')\n",
    "#     df[ds] = df[ds].str.strip('\"')\n",
    "\n",
    "    print(df.head(5))\n"
   ]
  },
  {
   "cell_type": "markdown",
   "metadata": {},
   "source": [
    "## Clean Dataframe Content"
   ]
  },
  {
   "cell_type": "code",
   "execution_count": 104,
   "metadata": {
    "tags": []
   },
   "outputs": [],
   "source": [
    "\"\"\"\n",
    "columns already strings => str.cat works (string concatenation)\n",
    "https://stackoverflow.com/questions/19377969/combine-two-columns-of-text-in-dataframe-in-pandas-python \n",
    "    \"\"\"\n",
    "# df = df.rename(columns = {'Part Number' : 'MPN', \n",
    "#                             'Alternative Part Number' : 'Alt. MPN',\n",
    "#                             'Alternative Manufacturer' : 'Alt. Manufacturer'})\n",
    "################################## PART NUMBERS ##################################\n",
    "\n",
    "            #combine + delete part no. columns\n",
    "# if (len(df.columns.values[5]) == 0):\n",
    "\n",
    "if mpno or mpn_ in df.columns.values:\n",
    "    df['Part Number'] = df['Part Number'].str.cat(df[[mpno, mpn_]])\n",
    "    df = df.drop([mpn_, mpno], axis=1)\n",
    "    df = df.rename(columns = {'Part Number' : mpn})\n",
    "\n",
    "        #drops the column - df.drop([x1, x2]) allows multiple vs df.pop() and del\n",
    "\n",
    "################################## MANUF NAME ##################################\n",
    "#repeat of part numbers\n",
    "# if (len(df.columns.values[4]) == 0):\n",
    "\n",
    "if manuf_ in df.columns.values:\n",
    "    df[manuf] = df[manuf].str.cat(df[manuf_])\n",
    "    df = df.drop([manuf_], axis=1)\n",
    "\n",
    "df = df.drop(['Description'], axis=1)\n",
    "\n"
   ]
  },
  {
   "cell_type": "code",
   "execution_count": 127,
   "metadata": {
    "tags": []
   },
   "outputs": [
    {
     "output_type": "stream",
     "name": "stdout",
     "text": "['Reference', 'Value', 'Footprint', 'Datasheet', 'Manufacturer', 'Manufacturer Part Number', 'Alt. Manufacturer', 'Alt. Manufacturer Part Number']\n\n<class 'pandas.core.series.Series'>\n<class 'pandas.core.frame.Pandas'>\nPandas(Index=1, Reference='TP1', Value='5019', Footprint='Measurement_Points:Test_Point_Keystone_5019_Minature', Datasheet='http://www.keyelco.com/product-pdf.cfm?p=1357', Manufacturer='Keystone Electronics', _6='5019', _7='', _8='')\n"
    },
    {
     "output_type": "error",
     "ename": "AttributeError",
     "evalue": "'Pandas' object has no attribute 'columns'",
     "traceback": [
      "\u001b[1;31m---------------------------------------------------------------------------\u001b[0m",
      "\u001b[1;31mAttributeError\u001b[0m                            Traceback (most recent call last)",
      "\u001b[1;32m<ipython-input-127-481b4348708e>\u001b[0m in \u001b[0;36m<module>\u001b[1;34m()\u001b[0m\n\u001b[0;32m      8\u001b[0m     \u001b[0mprint\u001b[0m\u001b[1;33m(\u001b[0m\u001b[0mtype\u001b[0m\u001b[1;33m(\u001b[0m\u001b[0mitem\u001b[0m\u001b[1;33m)\u001b[0m\u001b[1;33m)\u001b[0m\u001b[1;33m\u001b[0m\u001b[0m\n\u001b[0;32m      9\u001b[0m     \u001b[0mprint\u001b[0m\u001b[1;33m(\u001b[0m\u001b[0mitem\u001b[0m\u001b[1;33m)\u001b[0m\u001b[1;33m\u001b[0m\u001b[0m\n\u001b[1;32m---> 10\u001b[1;33m     \u001b[0mu\u001b[0m \u001b[1;33m=\u001b[0m \u001b[0mitem\u001b[0m\u001b[1;33m.\u001b[0m\u001b[0mcolumns\u001b[0m\u001b[1;33m.\u001b[0m\u001b[0mvalues\u001b[0m\u001b[1;33m\u001b[0m\u001b[0m\n\u001b[0m\u001b[0;32m     11\u001b[0m     \u001b[0mprint\u001b[0m\u001b[1;33m(\u001b[0m\u001b[0mtype\u001b[0m\u001b[1;33m(\u001b[0m\u001b[0mu\u001b[0m\u001b[1;33m)\u001b[0m\u001b[1;33m,\u001b[0m \u001b[1;34m'\\n'\u001b[0m\u001b[1;33m,\u001b[0m \u001b[0mu\u001b[0m\u001b[1;33m)\u001b[0m\u001b[1;33m\u001b[0m\u001b[0m\n\u001b[0;32m     12\u001b[0m \u001b[1;33m\u001b[0m\u001b[0m\n",
      "\u001b[1;31mAttributeError\u001b[0m: 'Pandas' object has no attribute 'columns'"
     ]
    }
   ],
   "source": [
    "df[amanuf] = ''\n",
    "df[ampn] = ''\n",
    "headers = df.columns.values.tolist()\n",
    "print(headers)\n",
    "print()\n",
    "print(type(df[ampn]))\n",
    "for item in df.itertuples():\n",
    "    print(type(item))\n",
    "    print(item)\n",
    "    u = item.columns.values\n",
    "    print(type(u), '\\n', u)\n",
    "\n",
    "    break;"
   ]
  },
  {
   "cell_type": "markdown",
   "metadata": {
    "tags": []
   },
   "source": [
    "#### At this point, the escheema file with no extension (the un-extensioned .csv file) that contains the schematic listed information for all of the parts on the schematic has been...\n",
    "* converted into a dataframe - BINGO\n",
    "  * move on to library\n",
    "* had extra fields removed - BINGO \n",
    "  * move on to library\n",
    "* successfully interpretable by KiCad - NOPE\n",
    "  * STOP PURSUIT\n",
    "\n",
    "Turns out there was an error in how I was running the command line operation for the scripts to convert a schematic into a .csv file. We noticed that we received a .xml file, but after some further research and the __failure of the third bullet__, I discovered that the file with no extension... Was in fact... the .csv file that we were missing. \n",
    "\n",
    "* This has now been resolved by adding the needed .csv after the capital O in the command line script. "
   ]
  },
  {
   "cell_type": "code",
   "execution_count": 8,
   "metadata": {
    "tags": []
   },
   "outputs": [
    {
     "output_type": "stream",
     "name": "stdout",
     "text": "['Reference', 'Value', 'Footprint', 'Datasheet', 'Manufacturer', 'Manufacturer Part Number', 'Alt. Manufacturer', 'Alt. Manufacturer Part Number']\n<class 'pandas.core.frame.DataFrame'>\n(104, 8) 832\n    Reference            Value  \\\n1         TP1             5019   \n2         C20              .1u   \n3         C18              47u   \n4          D2            GREEN   \n5          D1            GREEN   \n6         R17              249   \n7          J3        1217861-1   \n8         RV1  B72214S0271K101   \n9          M2         IRM-05-5   \n10         M1         IRM-05-5   \n11         J4        1217861-1   \n12         D3         CUS08F30   \n13         D4         CUS08F30   \n14         J6         640445-3   \n15         D5         CUS08F30   \n16         D6         CUS08F30   \n17        FL1              5mH   \n18         U2           LT3032   \n19         R5            88.7K   \n20         R1             274K   \n21        C13              10u   \n22         J5        1217861-1   \n23        R23               1    \n24        C21            0.68u   \n25        C16              .1u   \n26         H1       Conn_01x01   \n27         H2       Conn_01x01   \n28         H3       Conn_01x01   \n29         H4       Conn_01x01   \n30        TP2             5019   \n..        ...              ...   \n75         R9              200   \n76         R3              10K   \n77        IC1   LT3582EUD-5PBF   \n78         U6          LTC4076   \n79        R16             2.1K   \n80        R22               2K   \n81         D8            GREEN   \n82        C29         C-Device   \n83        C28         C-Device   \n84        SW1       SW_DPST_x2   \n85        C30              47u   \n86        C31             4.7u   \n87         L2             6.8u   \n88        D11       B0540W-7-F   \n89        C36               1u   \n90        C33             .01u   \n91        C35             4.7u   \n92        BT1     Battery_Cell   \n93        R15                1   \n94        R19            1.24K   \n95        R20              680   \n96        R21              680   \n97         D7            GREEN   \n98        R24               10   \n99        C32             4.7u   \n100       C34             .01u   \n101       D10       B0540W-7-F   \n102        L1             4.7u   \n103       D12         CUS08F30   \n104        D9         CUS08F30   \n\n                                             Footprint  \\\n1    Measurement_Points:Test_Point_Keystone_5019_Mi...   \n2                                Capacitors_SMD:C_0805   \n3                       Capacitors_SMD:CP_Elec_6.3x7.7   \n4                                        LEDs:LED_0603   \n5                                        LEDs:LED_0603   \n6                                 Resistors_SMD:R_0603   \n7                               1217861-1:TE_1217861-1   \n8                      Varistors:RV_Disc_D12_W4.4_P7.5   \n9                               IRM-05-5:CONV_IRM-05-5   \n10                              IRM-05-5:CONV_IRM-05-5   \n11                              1217861-1:TE_1217861-1   \n12                                Diodes_SMD:D_SOD-323   \n13                                Diodes_SMD:D_SOD-323   \n14                               Connectors:PINHEAD1-3   \n15                                Diodes_SMD:D_SOD-323   \n16                                Diodes_SMD:D_SOD-323   \n17   MeanWell_PS:CommonModeChoke_WuerthType-WE-CMB_...   \n18                       Package_DFN_QFN:Linear_DE14MA   \n19                                Resistors_SMD:R_0603   \n20                                Resistors_SMD:R_0603   \n21                               Capacitors_SMD:C_1210   \n22                              1217861-1:TE_1217861-1   \n23                                Resistors_SMD:R_0805   \n24                               Capacitors_SMD:C_0805   \n25                               Capacitors_SMD:C_0805   \n26                   Mounting_Holes:MountingHole_3.5mm   \n27                   Mounting_Holes:MountingHole_3.5mm   \n28                   Mounting_Holes:MountingHole_3.5mm   \n29                   Mounting_Holes:MountingHole_3.5mm   \n30   Measurement_Points:Test_Point_Keystone_5019_Mi...   \n..                                                 ...   \n75                                Resistors_SMD:R_0805   \n76                                Resistors_SMD:R_0805   \n77                                QFN50P300X300X80-17N   \n78                                                       \n79                                Resistors_SMD:R_0402   \n80                                Resistors_SMD:R_0402   \n81                                       LEDs:LED_0603   \n82                                                       \n83                                                       \n84                                                       \n85                               Capacitors_SMD:C_1210   \n86                               Capacitors_SMD:C_0805   \n87                                       XPL2010-682ML   \n88                                 Diode_SMD;D_SOD-123   \n89                                      Capacitors_SMD   \n90                               Capacitors_SMD:C_0603   \n91                               Capacitors_SMD:C_1206   \n92                                                       \n93                                Resistors_SMD:R_0402   \n94                                Resistors_SMD:R_0402   \n95                                Resistors_SMD:R_0402   \n96                                Resistors_SMD:R_0402   \n97                                       LEDs:LED_0603   \n98                                Resistors_SMD:R_0402   \n99                               Capacitors_SMD:C_1206   \n100                              Capacitors_SMD:C_0603   \n101                                Diode_SMD;D_SOD-123   \n102                                      XPL2010-472ML   \n103                               Diodes_SMD:D_SOD-323   \n104                               Diodes_SMD:D_SOD-323   \n\n                                             Datasheet           Manufacturer  \\\n1        http://www.keyelco.com/product-pdf.cfm?p=1357   Keystone Electronics   \n2    https://content.kemet.com/datasheets/KEM_C1002...                  Kemet   \n3    https://industrial.panasonic.com/ww/products/c...              Panasonic   \n4    https://media.digikey.com/pdf/Data%20Sheets/Li...                 LITEON   \n5    https://media.digikey.com/pdf/Data%20Sheets/Li...                 LITEON   \n6    https://industrial.panasonic.com/cdbs/www-data...             Panasonics   \n7    http://www.te.com/commerce/DocumentDelivery/DD...        TE Connectivity   \n8    https://www.mouser.com/datasheet/2/400/SIOV_Le...              TDK/EPCOS   \n9    https://www.meanwell.com/Upload/PDF/IRM-05/IRM...               MeanWell   \n10   https://www.meanwell.com/Upload/PDF/IRM-05/IRM...               MeanWell   \n11   http://www.te.com/commerce/DocumentDelivery/DD...        TE Connectivity   \n12   https://toshiba.semicon-storage.com/info/docge...                Toshiba   \n13   https://toshiba.semicon-storage.com/info/docge...                Toshiba   \n14   https://www.te.com/commerce/DocumentDelivery/D...        TE Connectivity   \n15   https://toshiba.semicon-storage.com/info/docge...                Toshiba   \n16   https://toshiba.semicon-storage.com/info/docge...                Toshiba   \n17   https://www.bourns.com/docs/product-datasheets...                 Bourns   \n18   https://www.analog.com/media/en/technical-docu...                    NaN   \n19        http://www.vishay.com/docs/20035/dcrcwe3.pdf                 VISHAY   \n20        http://www.vishay.com/docs/20035/dcrcwe3.pdf                 VISHAY   \n21   https://www.mouser.com/datasheet/2/400/lcc_com...                    TDK   \n22   http://www.te.com/commerce/DocumentDelivery/DD...        TE Connectivity   \n23   https://www.bourns.com/docs/Product-Datasheets...            Bourns Inc.   \n24   https://content.kemet.com/datasheets/KEM_C1002...                  Kemet   \n25   https://content.kemet.com/datasheets/KEM_C1090...                  Kemet   \n26                                                                        NaN   \n27                                                                        NaN   \n28                                                                        NaN   \n29                                                                        NaN   \n30       http://www.keyelco.com/product-pdf.cfm?p=1357   Keystone Electronics   \n..                                                 ...                    ...   \n75   https://www.seielect.com/Catalog/SEI-RNCS_RNCH...  Stackpole Electronics   \n76   https://www.seielect.com/Catalog/SEI-RMCF_RMCP...  Stackpole Electronics   \n77                                                          Linear Technology   \n78                                                                        NaN   \n79   https://www.mouser.com/datasheet/2/40/cr05-32-...                    AVX   \n80       https://www.vishay.com/docs/20035/dcrcwe3.pdf                 VISHAY   \n81   https://media.digikey.com/pdf/Data%20Sheets/Li...                 LITEON   \n82                                                                        NaN   \n83                                                                        NaN   \n84                                                                        NaN   \n85   https://www.mouser.com/datasheet/2/40/TAJ_AUTO...                    AVX   \n86   https://www.yuden.co.jp/productdata/catalog/ml...            Taiyo Yuden   \n87   https://www.mouser.com/datasheet/2/597/xpl2010...              Coilcraft   \n88   https://www.diodes.com/assets/Datasheets/ds301...             DIODES INC   \n89                                                                Taiyo Yuden   \n90            http://catalogs.avx.com/SurfaceMount.pdf                    AVX   \n91   https://www.yuden.co.jp/productdata/catalog/ml...            Taiyo Yuden   \n92                                                   ~                    NaN   \n93   https://www.mouser.com/datasheet/2/40/cr05-32-...                    AVX   \n94   https://www.mouser.com/datasheet/2/40/cr05-32-...                    AVX   \n95   https://www.mouser.com/datasheet/2/40/cr05-32-...                    AVX   \n96   https://www.mouser.com/datasheet/2/40/cr05-32-...                    AVX   \n97   https://media.digikey.com/pdf/Data%20Sheets/Li...                 LITEON   \n98   https://www.mouser.com/datasheet/2/40/cr05-32-...                    AVX   \n99   https://www.yuden.co.jp/productdata/catalog/ml...            Taiyo Yuden   \n100           http://catalogs.avx.com/SurfaceMount.pdf                    AVX   \n101  https://www.diodes.com/assets/Datasheets/ds301...             DIODES INC   \n102  https://www.mouser.com/datasheet/2/597/xpl2010...              Coilcraft   \n103  https://toshiba.semicon-storage.com/info/docge...                Toshiba   \n104  https://toshiba.semicon-storage.com/info/docge...                Toshiba   \n\n    Manufacturer Part Number Alt. Manufacturer Alt. Manufacturer Part Number  \n1                       5019                                                  \n2           C0805C104J8RACTU                                                  \n3              EEE-FP1C470AP                                                  \n4               LTST-C190GKT                                                  \n5               LTST-C190GKT                                                  \n6              ERA-3AED2490V                                                  \n7                  1217861-1                                                  \n8            B72214S0271K101                                                  \n9                   IRM-05-5                                                  \n10                  IRM-05-5                                                  \n11                 1217861-1                                                  \n12              CUS08F30,H3F                                                  \n13              CUS08F30,H3F                                                  \n14                  640445-3                                                  \n15              CUS08F30,H3F                                                  \n16              CUS08F30,H3F                                                  \n17                   7408-RC                                                  \n18                       NaN                                                  \n19          CRCW060388K7FKEA                                                  \n20          CRCW0603274KFKEA                                                  \n21            C3225X7R1E106M                                                  \n22                 1217861-1                                                  \n23          CR0805-J/-1R0ELF                                                  \n24          C0805C684K5RACTU                                                  \n25        C0805C104K5RECAUTO                                                  \n26                       NaN                                                  \n27                       NaN                                                  \n28                       NaN                                                  \n29                       NaN                                                  \n30                      5019                                                  \n..                       ...               ...                           ...  \n75           RNCS0805BKE200R                                                  \n76            RMCF0805FT10K0                                                  \n77            LT3582EUD-5PBF                                                  \n78                       NaN                                                  \n79               CR05-2101FM                                                  \n80            CRCW040220001F                                                  \n81              LTST-C190GKT                                                  \n82                       NaN                                                  \n83                       NaN                                                  \n84                       NaN                                                  \n85               TAJB476M010                                                  \n86           JMK212BJ475MG-T                                                  \n87             XPL2010-682ML                                                  \n88                B0540W-7-F                                                  \n89             EMK316BJ105ML                                                  \n90            06033C103KAT2A                                                  \n91             EMK316BJ475ML                                                  \n92                       NaN                                                  \n93                CR05-1R0JM                                                  \n94               CR05-1241FM                                                  \n95                CR05-681JM                                                  \n96                CR05-681JM                                                  \n97              LTST-C190GKT                                                  \n98                CR05-100JM                                                  \n99             EMK316BJ475ML                                                  \n100           06033C103KAT2A                                                  \n101               B0540W-7-F                                                  \n102            XPL2010-472ML                                                  \n103             CUS08F30,H3F                                                  \n104             CUS08F30,H3F                                                  \n\n[104 rows x 8 columns]\n"
    }
   ],
   "source": [
    "print(headers)\n",
    "print(type(df))\n",
    "print(df.shape, df.size)\n",
    "print(df)"
   ]
  },
  {
   "cell_type": "code",
   "execution_count": 9,
   "metadata": {
    "tags": []
   },
   "outputs": [],
   "source": [
    "# lib_path = os.getcwd()\n",
    "\n",
    "# with open('ECG_MOUSE', 'w') as library:\n",
    "#     # library.write(df.to_string(index = False, na_rep = '<>', col_space = 0))\n",
    "#     tonk = df.to_csv(na_rep = '', \n",
    "#                         index = False,\n",
    "#                         sep = '^').replace('\\n', '\\n\"')\n",
    "#     tonk = tonk.replace('^', '\",\"').replace('\",\"', ',', len(df.columns.values.tolist()))\n",
    "#     library.write(tonk)\n",
    "# for root, dirs, files in os.walk(lib_path):\n",
    "#     # print(root)\n",
    "#     # print(dirs)\n",
    "#     print(files)"
   ]
  },
  {
   "cell_type": "markdown",
   "metadata": {},
   "source": [
    "____\n",
    "## Creating the Library (From .csv)"
   ]
  },
  {
   "cell_type": "code",
   "execution_count": 10,
   "metadata": {},
   "outputs": [],
   "source": [
    "import os, sys\n",
    "import shutil\n",
    "import pandas as pd\n",
    "import numpy as np\n"
   ]
  },
  {
   "cell_type": "code",
   "execution_count": 11,
   "metadata": {},
   "outputs": [],
   "source": [
    "# %%javascript\n",
    "# IPython.OutputArea.auto_scroll_threshold = 9999;"
   ]
  },
  {
   "cell_type": "code",
   "execution_count": 12,
   "metadata": {},
   "outputs": [],
   "source": [
    "# os.chdir(main)\n",
    "# os.getcwd()"
   ]
  },
  {
   "cell_type": "code",
   "execution_count": 13,
   "metadata": {
    "tags": []
   },
   "outputs": [
    {
     "output_type": "stream",
     "name": "stdout",
     "text": "prj:  c:\\Users\\jgoss\\Documents\\_Olin\\DRF_engineering\\LibGen_KiCad\\tests_ignore\n"
    }
   ],
   "source": [
    "# main = os.getcwd()\n",
    "# print('main: ', main)\n",
    "# os.chdir(main + '\\\\' + 'tests_ignore')\n",
    "prj = os.getcwd()\n",
    "print('prj: ', prj)"
   ]
  },
  {
   "cell_type": "code",
   "execution_count": 14,
   "metadata": {
    "tags": []
   },
   "outputs": [],
   "source": [
    "with open('ECG_MOUSE-cache.lib', 'r') as raw:\n",
    "    raw = raw.read().split('ENDDEF\\n')\n",
    "    compdetails = dict()\n",
    "    for item in raw:\n",
    "        if 'R-Device' in item:                                      #resistor\n",
    "            compdetails.update({'res' : item + 'ENDDEF\\n'})\n",
    "        \n",
    "        if 'C-Device' in item:                                      #capacitor\n",
    "            compdetails.update({'c' : item + 'ENDDEF\\n'})\n",
    "\n",
    "        if 'CP-Device' in item:                                     #polarized capacitor\n",
    "            compdetails.update({'cp' : item + 'ENDDEF\\n'})\n",
    "\n",
    "#extra types\n",
    "        # if 'C_Small' in item:\n",
    "        #     compdetails.update({'csmall' : item})            \n",
    "            #draw unpolarized cap\n",
    "#         if 'CP_Small' in item:\n",
    "#             compdetails.update({'cpsmall' : item})\n",
    "#             ##draw small unpolarized cap\n",
    "#         if 'CP1-Device' in item:\n",
    "# #             cpdraw_us = item\n",
    "#             compdetails.update({'cp1' : item})\n",
    "#             #draw us symbol capacitor\n",
    "#         if 'CP1_Small' in item:\n",
    "#             compdetails.update({'cp1small' : item})\n",
    "\n",
    "\n",
    "        item = item + 'ENDDEF\\n'\n",
    "# compdetails.update('C0805fp' : 'Capacitors_SMD:C_0805')\n",
    "# compdetails.update('R0805fp' : 'Resistors_SMD:R_0805')\n",
    "        #SAAD DIDN'T GIVE ME FOOTPRINT ACCESS\n",
    "    "
   ]
  },
  {
   "cell_type": "markdown",
   "metadata": {},
   "source": [
    "Library content was successfully taken out and put into a dictionary containing all of the parts details. Now each dictionary entry needs to be replicated and do the desired thing...\n",
    "\n",
    "* Create a passive component (Resistor/Capacitor) with the desired symbol\n",
    "* Assign it a desired value\n",
    "* Insert the other requested fields\n",
    "Then a successful library has been generated for import (if header and footer text of file are included)"
   ]
  },
  {
   "cell_type": "markdown",
   "metadata": {},
   "source": [
    "Cool things to do, that would be cool to accelerate this process\n",
    "* A list of desired 0805 resistor/capacitor values for sweeping\n",
    "* A list of desired 0605 resistor/capacitor values for sweeping\n",
    "* The footprint strings that are necessary\n",
    "    * The managing of libraries would have to be done as well\n",
    "* Maybe make a webscraping thing to get these links off of digikey for me?\n",
    "    * Maybe have like a preferred manufacturer?\n",
    "    * Manufacturer & MPN + Alts?\n",
    "* Have a setup that can let me sweep through Saad's other projects as well?\n",
    "    * Full python script that can run in terminal?\n",
    "    * Institute classes and other stuff\n",
    "    * Ask for string input for document sweeping and generation?\n",
    "    * Learn how to implement a GUI?"
   ]
  },
  {
   "cell_type": "code",
   "execution_count": 15,
   "metadata": {
    "tags": []
   },
   "outputs": [
    {
     "output_type": "stream",
     "name": "stdout",
     "text": "# \n# name\n#\nDEF name C 0 10 N Y F N\nF0 \"thing0\" 25 100 50 H V L CNN\nF1 \"thing1\" 25 -100 50 H V L CNN\nF2 \"thing2\" 38 -150 50 H I C CNN\nF3 \"thing3\" 0 0 50 H I C CNN\nF4 \"thing4\"  0 0 50 H I C CNN\nF5 \"thing5\"  0 0 50 H I C CNN\nF8 \"thing6\"  0 0 50 H I C CNN\nF7 \"thing7\"  0 0 50 H I C CNN\n$FPLIST\n C_0805*\n$ENDFPLIST\nDRAW\nS -90 20 90 40 0 1 0 N\nS 90 -20 -90 -40 0 1 0 F\nP 2 0 1 0 -70 90 -30 90 N\nP 2 0 1 0 -50 110 -50 70 N\nX ~ 1 0 150 110 D 50 50 1 1 P\nX ~ 2 0 -150 110 U 50 50 1 1 P\nENDDRAW\nENDDEF\n"
    }
   ],
   "source": [
    "def add_fields (manuf, mpn, amanuf, ampn, pck):\n",
    "    arbpos = ' 0 0 50 H I C CNN'\n",
    "    field4 = 'F4 \"{k}\" {j}'.format(k=manuf, j=arbpos)\n",
    "    field5 = 'F5 \"{k}\" {j}'.format(k=mpn, j=arbpos)\n",
    "    field6 = 'F8 \"{k}\" {j}'.format(k=amanuf, j=arbpos)\n",
    "    field7 = 'F7 \"{k}\" {j}'.format(k=ampn, j=arbpos)\n",
    "\n",
    "    return field4, field5, field6, field7\n",
    "\n",
    "\n",
    "def libadd (name, prt, pck, field0, field1, field2, field3, field4, field5, field6, field7):\n",
    "    \"\"\"\n",
    "        name = definition\n",
    "        prt = R/C (resistor or capacitor or polarized capacitor)\n",
    "        pck = 0805/0603 (package)\n",
    "        f0 = reference\n",
    "        f1 = name/definition\n",
    "        f2 = footprint\n",
    "        f3 = datasheet\n",
    "        f4 = manufacturer\n",
    "        f5 = mpn\n",
    "        f6 = alt manufacturer\n",
    "        f7 alt mpn\n",
    "        \"\"\"\n",
    "    partheader = '# \\n# {k}\\n#'.format(k=name)\n",
    "    if prt == 'R':        #regular resistor\n",
    "        DEF = 'DEF {k} R 0 0 N Y 1 F N'.format(k=name)\n",
    "        f0 = 'F0 \"{k}\" 80 0 50 V V C CNN'.format(k=field0)\n",
    "        f1 = 'F1 \"{k}\" 80 0 50 V V C CNN'.format(k=field1)\n",
    "        f2 = 'F2 \"{k}\" 80 0 50 V V C CNN'.format(k=field2)\n",
    "        f3 = 'F3 \"{k}\" 0 0 50 H I C CNN'.format(k=field3)\n",
    "\n",
    "####### add in the other fields, and footer(footprint + drawing) ####\n",
    "####### make this part optional \"\"\"\"\"\"\"\"\"\"\n",
    "        f4, f5, f6, f7 = add_fields(field4, field5, field6, field7, pck)\n",
    "        # partfooter = compdetails['res'][compdetails['res'].find('$FPLIST'): \\\n",
    "        #                     compdetails['res'].find('\\n #')]\n",
    "        index1 = compdetails['cp'].find('$ENDFPLIST')\n",
    "        index2 = compdetails['cp'].find('\\n #')\n",
    "        fplst = '$FPLIST\\n' + ' {k}_{j}*'.format(k=prt, j=pck)\n",
    "\n",
    "        partfooter = '\\n'.join([fplst, compdetails['cp'][index1:index2]])\n",
    "        \n",
    "    if prt == 'C':        #regular capacitor\n",
    "        DEF = 'DEF {k} C 0 10 N Y F N'.format(k=name)\n",
    "        f0 = 'F0 \"{k}\" 25 100 50 H V L CNN'.format(k=field0)\n",
    "        f1 = 'F1 \"{k}\" 25 -100 50 H V L CNN'.format(k=field1) \n",
    "        f2 = 'F2 \"{k}\" 38 -150 50 H I C CNN'.format(k=field2)\n",
    "        f3 = 'F3 \"{k}\" 0 0 50 H I C CNN'.format(k=field3)\n",
    "\n",
    "        f4, f5, f6, f7 = add_fields(field4, field5, field6, field7, pck)\n",
    "        index1 = compdetails['cp'].find('$ENDFPLIST')\n",
    "        index2 = compdetails['cp'].find('\\n #')\n",
    "        fplst = '$FPLIST\\n' + ' {k}_{j}*'.format(k=prt, j=pck)\n",
    "\n",
    "        partfooter = '\\n'.join([fplst, compdetails['cp'][index1:index2]])        \n",
    "        # partfooter = compdetails['c'][compdetails['c'].find('$FPLIST'): \\\n",
    "        #                     compdetails['c'].find('\\n #')]\n",
    "\n",
    "    if prt == 'CP':           #polarized capacitor\n",
    "        DEF = 'DEF {k} C 0 10 N Y 1 F N'.format(k=name)\n",
    "        f0 = 'F0 \"{k}\" 25 100 50 H V L CNN'.format(k=field0)\n",
    "        f1 = 'F1 \"{k}\" 25 -100 50 H V L CNN'.format(k=field1)\n",
    "        f2 = 'F2 \"{k}\" 38 -150 50 H I C CNN'.format(k=field2)\n",
    "        f3 = 'F3 \"{k}\" 0 0 50 H I C CNN'.format(k=field3)\n",
    "        \n",
    "        f4, f5, f6, f7 = add_fields(field4, field5, field6, field7, pck)\n",
    "        index1 = compdetails['cp'].find('$ENDFPLIST')\n",
    "        index2 = compdetails['cp'].find('\\n #')\n",
    "        fplst = '$FPLIST\\n' + ' {k}_{j}*'.format(k=prt, j=pck)\n",
    "\n",
    "        partfooter = '\\n'.join([fplst, compdetails['cp'][index1:index2]])\n",
    "\n",
    "    newprt = '\\n'.join([partheader, DEF, f0, f1, f2, \\\n",
    "                f3, f4, f5, f6, f7, partfooter])\n",
    "\n",
    "        \n",
    "    return newprt\n",
    "\n",
    "\n",
    "test = libadd('name', 'C', '0805', 'thing0', 'thing1', 'thing2', 'thing3', 'thing4', 'thing5', 'thing6', 'thing7')\n",
    "print(test)"
   ]
  },
  {
   "cell_type": "code",
   "execution_count": 75,
   "metadata": {
    "tags": []
   },
   "outputs": [
    {
     "output_type": "stream",
     "name": "stdout",
     "text": "Pandas(Index=1, Reference='TP1', Value='5019', Footprint='Measurement_Points:Test_Point_Keystone_5019_Minature', Datasheet='http://www.keyelco.com/product-pdf.cfm?p=1357', Manufacturer='Keystone Electronics', _6='5019', _7='', _8='')\n"
    },
    {
     "output_type": "error",
     "ename": "AttributeError",
     "evalue": "'Pandas' object has no attribute 'Manufacturer Part Number'",
     "traceback": [
      "\u001b[1;31m---------------------------------------------------------------------------\u001b[0m",
      "\u001b[1;31mAttributeError\u001b[0m                            Traceback (most recent call last)",
      "\u001b[1;32m<ipython-input-75-c8c0b89add24>\u001b[0m in \u001b[0;36m<module>\u001b[1;34m()\u001b[0m\n\u001b[0;32m     25\u001b[0m         \u001b[0mf3\u001b[0m \u001b[1;33m=\u001b[0m \u001b[0mpart\u001b[0m\u001b[1;33m.\u001b[0m\u001b[0m__getattribute__\u001b[0m\u001b[1;33m(\u001b[0m\u001b[0mds\u001b[0m\u001b[1;33m)\u001b[0m\u001b[1;33m\u001b[0m\u001b[0m\n\u001b[0;32m     26\u001b[0m         \u001b[0mf4\u001b[0m \u001b[1;33m=\u001b[0m \u001b[0mpart\u001b[0m\u001b[1;33m.\u001b[0m\u001b[0m__getattribute__\u001b[0m\u001b[1;33m(\u001b[0m\u001b[0mmanuf\u001b[0m\u001b[1;33m)\u001b[0m\u001b[1;33m\u001b[0m\u001b[0m\n\u001b[1;32m---> 27\u001b[1;33m         \u001b[0mf5\u001b[0m \u001b[1;33m=\u001b[0m \u001b[0mpart\u001b[0m\u001b[1;33m.\u001b[0m\u001b[0m__getattribute__\u001b[0m\u001b[1;33m(\u001b[0m\u001b[0mmpn\u001b[0m\u001b[1;33m)\u001b[0m\u001b[1;33m\u001b[0m\u001b[0m\n\u001b[0m\u001b[0;32m     28\u001b[0m         \u001b[0mf6\u001b[0m \u001b[1;33m=\u001b[0m \u001b[0mpart\u001b[0m\u001b[1;33m.\u001b[0m\u001b[0m__getattribute__\u001b[0m\u001b[1;33m(\u001b[0m\u001b[0mamanuf\u001b[0m\u001b[1;33m)\u001b[0m\u001b[1;33m\u001b[0m\u001b[0m\n\u001b[0;32m     29\u001b[0m         \u001b[0mf7\u001b[0m \u001b[1;33m=\u001b[0m \u001b[0mpart\u001b[0m\u001b[1;33m.\u001b[0m\u001b[0m__getattribute__\u001b[0m\u001b[1;33m(\u001b[0m\u001b[0mampn\u001b[0m\u001b[1;33m)\u001b[0m\u001b[1;33m\u001b[0m\u001b[0m\n",
      "\u001b[1;31mAttributeError\u001b[0m: 'Pandas' object has no attribute 'Manufacturer Part Number'"
     ]
    }
   ],
   "source": [
    "\"\"\"\n",
    "    name = definition\n",
    "    prt = R/C (resistor or capacitor or polarized capacitor)\n",
    "    pck = 0805/0603 (package)\n",
    "    f0 = reference\n",
    "    f1 = name/definition\n",
    "    f2 = footprint\n",
    "    f3 = datasheet\n",
    "    f4 = manufacturer\n",
    "    f5 = mpn\n",
    "    f6 = alt manufacturer\n",
    "    f7 = alt mpn\n",
    "    \"\"\"\n",
    "\n",
    "with open('templibrary.lib', 'w') as libby:\n",
    "    with open('ECG_MOUSE.lib', 'r') as ecg:\n",
    "        initlines = ecg.readlines()\n",
    "        libby.write('\\n'.join(initlines[0:2]))\n",
    "    for part in df.itertuples():\n",
    "        print(part)\n",
    "        name = part.__getattribute__(val)\n",
    "        f1 = part.__getattribute__(ref)\n",
    "        ptype = f1[0]\n",
    "        f2 = part.__getattribute__(fp)\n",
    "        f3 = part.__getattribute__(ds)\n",
    "        f4 = part.__getattribute__(manuf)\n",
    "        f5 = part.__getattribute__(mpn)\n",
    "        f6 = part.__getattribute__(amanuf)\n",
    "        f7 = part.__getattribute__(ampn)\n",
    "        if '0805' in part.__getattribute__(fp):\n",
    "            pck = '0805'\n",
    "        elif '0805' in part.__getattribute__(fp):\n",
    "            pck = '0805'\n",
    "\n",
    "        if 'R' in f1[0] and 'RV' not in f1:\n",
    "            libby.write(libadd(name, ptype, pck, f1, f2, \\\n",
    "                                f3, f4, f5, f6, f7))\n",
    "        if 'C' in f1[0]:\n",
    "            libby.write(libadd(name, 'R', f1, f2, \\\n",
    "                                f3, f4, f5, f6, f7))"
   ]
  },
  {
   "cell_type": "code",
   "execution_count": 78,
   "metadata": {
    "tags": []
   },
   "outputs": [
    {
     "output_type": "stream",
     "name": "stdout",
     "text": "Pandas(Index=1, Reference='TP1', Value='5019', Footprint='Measurement_Points:Test_Point_Keystone_5019_Minature', Datasheet='http://www.keyelco.com/product-pdf.cfm?p=1357', Manufacturer='Keystone Electronics', _6='5019', _7='', _8='')\n<class 'pandas.core.frame.Pandas'> \n\n5019\n<class 'str'> \n\nref is TP1\n<class 'str'> type of x = TP1\n\n\n['Reference' 'Value' 'Footprint' 'Datasheet' 'Manufacturer'\n 'Manufacturer Part Number' 'Alt. Manufacturer'\n 'Alt. Manufacturer Part Number']\n"
    }
   ],
   "source": [
    "for thing in df.itertuples():\n",
    "    print(thing)\n",
    "    print(type(thing), '\\n')\n",
    "\n",
    "    print(thing[2])\n",
    "    print(type(thing[2]), '\\n')\n",
    "\n",
    "    print('ref is ' + thing.__getattribute__(ref))\n",
    "    x = thing.__getattribute__(ref)\n",
    "    print(type(x), 'type of x = ' + x)\n",
    "    print('\\n')\n",
    "    # print(type(df[manuf]))\n",
    "    # print(df[manuf])\n",
    "\n",
    "    print(df.columns.values)\n",
    "    # print(df.columns.values)\n",
    "\n",
    "    break;\n",
    "# with open('ECG_MOUSE.lib', 'r') as ecg:\n",
    "#     initlines = ecg.readlines()\n",
    "#     print(initlines[0:2])\n",
    "# print(df.__getattribute__('Manufacturer'))"
   ]
  },
  {
   "cell_type": "code",
   "execution_count": 41,
   "metadata": {},
   "outputs": [
    {
     "output_type": "execute_result",
     "data": {
      "text/plain": "'Manufacturer Part Number'"
     },
     "metadata": {},
     "execution_count": 41
    }
   ],
   "source": [
    "df.columns[5]"
   ]
  },
  {
   "cell_type": "markdown",
   "metadata": {},
   "source": [
    "__________________\n",
    "<br/><br/><br/><br/><br/><br/><br/><br/><br/><br/><br/>\n",
    "\n",
    "\n",
    "\n",
    "\n",
    "\n",
    "\n",
    "___________"
   ]
  },
  {
   "cell_type": "markdown",
   "metadata": {},
   "source": [
    "_______\n",
    "## Extracting from the Netlist"
   ]
  },
  {
   "cell_type": "code",
   "execution_count": null,
   "metadata": {
    "tags": []
   },
   "outputs": [],
   "source": [
    "with open('ECG_MOUSE.net', 'r') as netlist:\n",
    "    temp = netlist.read()\n",
    "    startcomp, endcomp = temp.find('(component'), temp.find('(libparts')\n",
    "    # print(type(startcomp), startcomp, endcomp)\n",
    "    # print(temp[endcomp])\n",
    "    temp = temp[startcomp:endcomp]\n",
    "#     print(temp)\n",
    "            # the components section has been extracted\n",
    "    with open('netcomp.lib', 'w') as nc: \n",
    "            #netlist of components == netcomp\n",
    "        nc.write(temp)\n",
    "        "
   ]
  },
  {
   "cell_type": "code",
   "execution_count": null,
   "metadata": {
    "tags": []
   },
   "outputs": [],
   "source": [
    "# ha = 'abcdefghijklmnop\\n' + \\\n",
    "        # 'qrstuvwxyz\\n' + 'button! up'\n",
    "# print(ha.find('j', end=ha.find('button!')))\n",
    "# ha.find('button!')\n",
    "thing = 'thing'\n",
    "print(type(thing[0]))"
   ]
  },
  {
   "cell_type": "code",
   "execution_count": null,
   "metadata": {},
   "outputs": [],
   "source": [
    "# print(df)"
   ]
  },
  {
   "cell_type": "code",
   "execution_count": null,
   "metadata": {},
   "outputs": [],
   "source": []
  }
 ],
 "metadata": {
  "kernelspec": {
   "display_name": "Python 3.6.6 64-bit ('base': conda)",
   "language": "python",
   "name": "python_defaultSpec_1595952382420"
  },
  "language_info": {
   "codemirror_mode": {
    "name": "ipython",
    "version": 3
   },
   "file_extension": ".py",
   "mimetype": "text/x-python",
   "name": "python",
   "nbconvert_exporter": "python",
   "pygments_lexer": "ipython3",
   "version": "3.6.6-final"
  }
 },
 "nbformat": 4,
 "nbformat_minor": 2
}