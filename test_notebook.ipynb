{
 "metadata": {
  "language_info": {
   "codemirror_mode": {
    "name": "ipython",
    "version": 3
   },
   "file_extension": ".py",
   "mimetype": "text/x-python",
   "name": "python",
   "nbconvert_exporter": "python",
   "pygments_lexer": "ipython3",
   "version": "3.6.6-final"
  },
  "orig_nbformat": 2,
  "kernelspec": {
   "name": "python3",
   "display_name": "Python 3"
  }
 },
 "nbformat": 4,
 "nbformat_minor": 2,
 "cells": [
  {
   "cell_type": "code",
   "execution_count": 1,
   "metadata": {},
   "outputs": [],
   "source": [
    "import os, sys\n",
    "import shutil\n",
    "import pandas as pd\n",
    "import numpy as np"
   ]
  },
  {
   "cell_type": "code",
   "execution_count": 2,
   "metadata": {
    "tags": []
   },
   "outputs": [
    {
     "output_type": "stream",
     "name": "stdout",
     "text": "main:  c:\\Users\\jgoss\\Documents\\_Olin\\DRF_engineering\\LibGen_KiCad\nprj:  c:\\Users\\jgoss\\Documents\\_Olin\\DRF_engineering\\LibGen_KiCad\\tests_ignore\n"
    }
   ],
   "source": [
    "main = os.getcwd()\n",
    "print('main: ', main)\n",
    "os.chdir(main + '\\\\' + 'tests_ignore')\n",
    "prj = os.getcwd()\n",
    "print('prj: ', prj)\n",
    "# os.chdir(main)\n",
    "# os.getcwd()"
   ]
  },
  {
   "cell_type": "code",
   "execution_count": 3,
   "metadata": {
    "tags": []
   },
   "outputs": [
    {
     "output_type": "stream",
     "name": "stdout",
     "text": "c:\\Users\\jgoss\\Documents\\_Olin\\DRF_engineering\\LibGen_KiCad\\tests_ignore\n[]\n['ECG_MOUSE', 'ECG_MOUSE.lib', 'test_copy']\n"
    }
   ],
   "source": [
    "for root, dirs, files in os.walk(prj):\n",
    "    print(root)\n",
    "    print(dirs)\n",
    "    print(files)"
   ]
  },
  {
   "cell_type": "code",
   "execution_count": 4,
   "metadata": {
    "tags": []
   },
   "outputs": [
    {
     "output_type": "stream",
     "name": "stdout",
     "text": "['ECG_MOUSE', 'ECG_MOUSE.lib', 'test_copy']\n"
    }
   ],
   "source": [
    "shutil.copy2('ECG_MOUSE', 'test_copy')\n",
    "for root, dirs, files in os.walk(prj):\n",
    "    print(files)"
   ]
  },
  {
   "cell_type": "markdown",
   "metadata": {},
   "source": [
    "### Extract data from file into DataFrame"
   ]
  },
  {
   "cell_type": "code",
   "execution_count": 5,
   "metadata": {
    "tags": []
   },
   "outputs": [],
   "source": [
    "# python.dataScience.textOutputLimit = 0\n",
    "with open('ECG_MOUSE', 'r') as schemtxt:\n",
    "    data = schemtxt.read().splitlines()\n",
    "    headers = data[0].split(', ')\n",
    "    for line in range(0, len(data)):\n",
    "        data[line] = data[line].split('\",\"')\n",
    "    data = data[1:len(data)]\n",
    "    # print(len(data[0]))\n",
    "    # print(data)\n",
    "\n",
    "    df = pd.DataFrame(data, index = np.arange(1, len(data)+1), columns = headers)\n",
    "    # print(df)\n"
   ]
  },
  {
   "cell_type": "markdown",
   "metadata": {},
   "source": [
    "### Clean Dataframe Content"
   ]
  },
  {
   "cell_type": "code",
   "execution_count": null,
   "metadata": {},
   "outputs": [],
   "source": []
  }
 ]
}