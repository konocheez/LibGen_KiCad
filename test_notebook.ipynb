{
 "metadata": {
  "language_info": {
   "codemirror_mode": {
    "name": "ipython",
    "version": 3
   },
   "file_extension": ".py",
   "mimetype": "text/x-python",
   "name": "python",
   "nbconvert_exporter": "python",
   "pygments_lexer": "ipython3",
   "version": "3.6.6-final"
  },
  "orig_nbformat": 2,
  "kernelspec": {
   "name": "python3",
   "display_name": "Python 3"
  }
 },
 "nbformat": 4,
 "nbformat_minor": 2,
 "cells": [
  {
   "cell_type": "code",
   "execution_count": 1,
   "metadata": {},
   "outputs": [],
   "source": [
    "import os, sys\n",
    "import shutil\n",
    "import pandas as pd\n",
    "import numpy as np"
   ]
  },
  {
   "cell_type": "code",
   "execution_count": 2,
   "metadata": {
    "tags": []
   },
   "outputs": [
    {
     "output_type": "stream",
     "name": "stdout",
     "text": "main:  c:\\Users\\jgoss\\Documents\\_Olin\\DRF_engineering\\LibGen_KiCad\nprj:  c:\\Users\\jgoss\\Documents\\_Olin\\DRF_engineering\\LibGen_KiCad\\tests_ignore\n"
    }
   ],
   "source": [
    "main = os.getcwd()\n",
    "print('main: ', main)\n",
    "os.chdir(main + '\\\\' + 'tests_ignore')\n",
    "prj = os.getcwd()\n",
    "print('prj: ', prj)\n",
    "# os.chdir(main)\n",
    "# os.getcwd()"
   ]
  },
  {
   "cell_type": "code",
   "execution_count": 3,
   "metadata": {
    "tags": []
   },
   "outputs": [
    {
     "output_type": "stream",
     "name": "stdout",
     "text": "c:\\Users\\jgoss\\Documents\\_Olin\\DRF_engineering\\LibGen_KiCad\\tests_ignore\n[]\n['1217861-1.dcm', 'ECG_MOUSE-cache.lib', 'ECG_MOUSE.csv', 'ECG_MOUSE.lib', 'ECG_MOUSE.net', 'main_copy.lib', 'orig_ECG_MOUSE', 'test_copy']\n"
    }
   ],
   "source": [
    "for root, dirs, files in os.walk(prj):\n",
    "    print(root)\n",
    "    print(dirs)\n",
    "    print(files)"
   ]
  },
  {
   "cell_type": "code",
   "execution_count": 4,
   "metadata": {
    "tags": []
   },
   "outputs": [
    {
     "output_type": "stream",
     "name": "stdout",
     "text": "['1217861-1.dcm', 'ECG_MOUSE-cache.lib', 'ECG_MOUSE.csv', 'ECG_MOUSE.lib', 'ECG_MOUSE.net', 'main_copy.lib', 'orig_ECG_MOUSE', 'test_copy']\n"
    }
   ],
   "source": [
    "shutil.copy2('ECG_MOUSE.csv', 'test_copy')\n",
    "for root, dirs, files in os.walk(prj):\n",
    "    print(files)"
   ]
  },
  {
   "cell_type": "markdown",
   "metadata": {},
   "source": [
    "## Extract .csv data from file into DataFrame"
   ]
  },
  {
   "cell_type": "code",
   "execution_count": 5,
   "metadata": {
    "tags": []
   },
   "outputs": [],
   "source": [
    "mpn = 'Manufacturer Part Number'\n",
    "mpn_ = 'Manufacturer_Part_Number'\n",
    "mpno = 'Manufacturer Part No.'\n",
    "manuf = 'Manufacturer'\n",
    "manuf_ = 'Manufacturer_Name'\n",
    "ampn = 'Alt. Manufacturer Part Number'\n",
    "amanuf = 'Alt. Manufacturer'\n",
    "ref = 'Reference'\n",
    "ds = 'Datasheet'\n",
    "\n",
    "with open('test_copy', 'r') as schemtxt:\n",
    "    data = schemtxt.read().splitlines()\n",
    "    headers = data[0].split(', ')       #headers need to be labeled headers\n",
    "    for line in range(0, len(data)):\n",
    "        # data[line] = data[line].split('\",\"')\n",
    "            #replace commas with double => prev. issues @mpns w/commas\n",
    "        data[line] = data[line].replace('\",\"', '\",,\"')\n",
    "        data[line] = data[line].split(',,')\n",
    "        \n",
    "    data = data[1:len(data)]\n",
    "    #re-init data w/o headers\n",
    "\n",
    "    df = pd.DataFrame(data, index = np.arange(1, len(data)+1), columns = headers)\n",
    "    df[mpn_] = df[mpn_].str.strip('\"')\n",
    "    df[ref] = df[ref].str.strip('\"')\n",
    "    df[ds] = df[ds].str.strip('\"')\n",
    "\n",
    "    # print(df.head(5))\n"
   ]
  },
  {
   "cell_type": "markdown",
   "metadata": {},
   "source": [
    "## Clean Dataframe Content"
   ]
  },
  {
   "cell_type": "code",
   "execution_count": 6,
   "metadata": {
    "tags": []
   },
   "outputs": [],
   "source": [
    "\"\"\"\n",
    "columns already strings => str.cat works (string concatenation)\n",
    "https://stackoverflow.com/questions/19377969/combine-two-columns-of-text-in-dataframe-in-pandas-python \n",
    "    \"\"\"\n",
    "# df = df.rename(columns = {'Part Number' : 'MPN', \n",
    "#                             'Alternative Part Number' : 'Alt. MPN',\n",
    "#                             'Alternative Manufacturer' : 'Alt. Manufacturer'})\n",
    "################################## PART NUMBERS ##################################\n",
    "\n",
    "            #combine + delete part no. columns\n",
    "# if (len(df.columns.values[5]) == 0):\n",
    "\n",
    "if mpno or mpn_ in df.columns.values:\n",
    "    df['Part Number'] = df['Part Number'].str.cat(df[[mpno,\n",
    "    mpn_]])\n",
    "    df = df.drop([mpn_, mpno], axis=1)\n",
    "    df = df.rename(columns = {'Part Number' : 'Manufacturer Part Number'})\n",
    "\n",
    "        #drops the column - df.drop([x1, x2]) allows multiple vs df.pop() and del\n",
    "\n",
    "################################## MANUF NAME ##################################\n",
    "#repeat of part numbers\n",
    "# if (len(df.columns.values[4]) == 0):\n",
    "\n",
    "if manuf_ in df.columns.values:\n",
    "    df[manuf] = df[manuf].str.cat(df[manuf_])\n",
    "    df = df.drop([manuf_], axis=1)\n",
    "\n",
    "df = df.drop(['Description'], axis=1)\n",
    "headers = df.columns.values.tolist()\n"
   ]
  },
  {
   "cell_type": "markdown",
   "metadata": {
    "tags": []
   },
   "source": [
    "#### At this point, the escheema file with no extension (the un-extensioned .csv file) that contains the schematic listed information for all of the parts on the schematic has been...\n",
    "* converted into a dataframe - BINGO\n",
    "  * move on to library\n",
    "* had extra fields removed - BINGO \n",
    "  * move on to library\n",
    "* successfully interpretable by KiCad - NOPE\n",
    "  * STOP PURSUIT\n",
    "\n",
    "Turns out there was an error in how I was running the command line operation for the scripts to convert a schematic into a .csv file. We noticed that we received a .xml file, but after some further research and the __failure of the third bullet__, I discovered that the file with no extension... Was in fact... the .csv file that we were missing. \n",
    "\n",
    "* This has now been resolved by adding the needed .csv after the capital O in the command line script. "
   ]
  },
  {
   "cell_type": "code",
   "execution_count": 7,
   "metadata": {
    "tags": []
   },
   "outputs": [
    {
     "output_type": "stream",
     "name": "stdout",
     "text": "['Reference', 'Value', 'Footprint', 'Datasheet', 'Manufacturer', 'Manufacturer Part Number']\n<class 'pandas.core.frame.DataFrame'>\n(104, 6) 624\n"
    }
   ],
   "source": [
    "print(headers)\n",
    "print(type(df))\n",
    "print(df.shape, df.size)"
   ]
  },
  {
   "cell_type": "code",
   "execution_count": 8,
   "metadata": {
    "tags": []
   },
   "outputs": [],
   "source": [
    "# lib_path = os.getcwd()\n",
    "\n",
    "# with open('ECG_MOUSE', 'w') as library:\n",
    "#     # library.write(df.to_string(index = False, na_rep = '<>', col_space = 0))\n",
    "#     tonk = df.to_csv(na_rep = '', \n",
    "#                         index = False,\n",
    "#                         sep = '^').replace('\\n', '\\n\"')\n",
    "#     tonk = tonk.replace('^', '\",\"').replace('\",\"', ',', len(df.columns.values.tolist()))\n",
    "#     library.write(tonk)\n",
    "# for root, dirs, files in os.walk(lib_path):\n",
    "#     # print(root)\n",
    "#     # print(dirs)\n",
    "#     print(files)"
   ]
  },
  {
   "cell_type": "markdown",
   "metadata": {},
   "source": [
    "____\n",
    "## Creating the Library (From .csv)"
   ]
  },
  {
   "cell_type": "code",
   "execution_count": 1,
   "metadata": {},
   "outputs": [],
   "source": [
    "import os, sys\n",
    "import shutil\n",
    "import pandas as pd\n",
    "import numpy as np"
   ]
  },
  {
   "cell_type": "code",
   "execution_count": 2,
   "metadata": {},
   "outputs": [],
   "source": [
    "# os.chdir(main)\n",
    "# os.getcwd()"
   ]
  },
  {
   "cell_type": "code",
   "execution_count": 3,
   "metadata": {
    "tags": []
   },
   "outputs": [
    {
     "output_type": "stream",
     "name": "stdout",
     "text": "main:  c:\\Users\\jgoss\\Documents\\_Olin\\DRF_engineering\\LibGen_KiCad\nprj:  c:\\Users\\jgoss\\Documents\\_Olin\\DRF_engineering\\LibGen_KiCad\\tests_ignore\n"
    }
   ],
   "source": [
    "main = os.getcwd()\n",
    "print('main: ', main)\n",
    "os.chdir(main + '\\\\' + 'tests_ignore')\n",
    "prj = os.getcwd()\n",
    "print('prj: ', prj)"
   ]
  },
  {
   "cell_type": "code",
   "execution_count": 8,
   "metadata": {
    "tags": []
   },
   "outputs": [
    {
     "output_type": "stream",
     "name": "stdout",
     "text": "<class 'str'>\n"
    }
   ],
   "source": [
    "with open('ECG_MOUSE-cache.lib', 'r') as raw:\n",
    "    raw = raw.read().split('ENDDEF\\n')\n",
    "    compdetails = dict()\n",
    "    for item in raw:\n",
    "        if 'R-Device' in item:\n",
    "            # resdraw = item update\n",
    "            compdetails.update({'res' : item})\n",
    "            #draw resistor\n",
    "        if 'C-Device' in item:\n",
    "            # cdraw = item\n",
    "            compdetails.update({'c' : item})\n",
    "            #draw capacitor\n",
    "        if 'C_Small' in item:\n",
    "            # csmalldraw = item\n",
    "            compdetails.update({'csmall' : item})\n",
    "        if 'CP-Device' in item:\n",
    "            cpdraw = item\n",
    "            compdetails.update({'cp' : item})\n",
    "            #draw unpolarized cap\n",
    "        if 'CP_Small' in item:\n",
    "            # cpsmalldraw = item\n",
    "            compdetails.update({'cpsmall' : item})\n",
    "            ##draw small unpolarized cap\n",
    "        if 'CP1-Device' in item:\n",
    "            cpdraw_us = ite/m\n",
    "            compdetails.update({'cp1' : item})\n",
    "            #draw us symbol capacitor\n",
    "        if 'CP1_Small' in item:\n",
    "            compdetails.update({'cp1small' : item})\n",
    "            # cp1smalldraw = item\n",
    "\n",
    "        item = item + 'ENDDEF\\n'\n",
    "# compdetails.update('C0805fp' : 'Capacitors_SMD:C_0805')\n",
    "# compdetails.update('R0805fp' : 'Resistors_SMD:R_0805')\n",
    "        #SAAD DIDN'T GIVE ME FOOTPRINT ACCESS\n",
    "        \n",
    "# print(type(drawer['res']))"
   ]
  },
  {
   "cell_type": "markdown",
   "metadata": {},
   "source": [
    "Library content was successfully taken out and put into a dictionary containing all of the parts details. Now each dictionary entry needs to be replicated and do the desired thing...\n",
    "\n",
    "* Create a passive component (Resistor/Capacitor) with the desired symbol\n",
    "* Assign it a desired value\n",
    "* Insert the other requested fields\n",
    "Then a successful library has been generated for import (if header and footer of file are included)"
   ]
  },
  {
   "cell_type": "markdown",
   "metadata": {},
   "source": [
    "Cool things to do, that would be cool to accelerate this process\n",
    "* A list of desired 0805 resistor/capacitor values for sweeping\n",
    "* A list of desired 0605 resistor/capacitor values for sweeping\n",
    "* The footprint strings that are necessary\n",
    "    * The managing of libraries would have to be done as well\n",
    "* Maybe make a webscraping thing to get these links off of digikey for me?\n",
    "    * Maybe have like a preferred manufacturer?\n",
    "    * Manufacturer & MPN + Alts?\n",
    "* Have a setup that can let me sweep through Saad's other projects as well?\n",
    "    * Full python script that can run in terminal?\n",
    "    * Institute classes and other stuff\n",
    "    * Ask for string input for document sweeping and generation?\n",
    "    * Learn how to implement a GUI?"
   ]
  },
  {
   "cell_type": "markdown",
   "metadata": {},
   "source": [
    "_______\n",
    "## Extracting from the Netlist"
   ]
  },
  {
   "cell_type": "code",
   "execution_count": 54,
   "metadata": {
    "tags": []
   },
   "outputs": [
    {
     "output_type": "stream",
     "name": "stdout",
     "text": "<class 'int'> 2010 38231\n"
    }
   ],
   "source": [
    "with open('ECG_MOUSE.net', 'r') as netlist:\n",
    "    temp = netlist.read()\n",
    "    startcomp, endcomp = temp.find('(component'), (temp.find('(libparts'))\n",
    "    # print(type(startcomp), startcomp, endcomp)\n",
    "    # print(temp[endcomp])\n",
    "    temp = temp[startcomp:endcomp]\n",
    "            # the components section has been extracted\n",
    "    with open('netcomp', 'w') as nc:\n",
    "        nc.write(temp)\n",
    "        \n"
   ]
  },
  {
   "cell_type": "code",
   "execution_count": 38,
   "metadata": {
    "tags": []
   },
   "outputs": [
    {
     "output_type": "stream",
     "name": "stdout",
     "text": "<class 'str'>\n"
    }
   ],
   "source": [
    "# ha = 'abcdefghijklmnop\\n' + \\\n",
    "        # 'qrstuvwxyz\\n' + 'button! up'\n",
    "# print(ha.find('j', end=ha.find('button!')))\n",
    "# ha.find('button!')\n",
    "thing = 'thing'\n",
    "print(type(thing[0]))"
   ]
  }
 ]
}