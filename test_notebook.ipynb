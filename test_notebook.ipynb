{
 "cells": [
  {
   "cell_type": "code",
   "execution_count": 1,
   "metadata": {},
   "outputs": [],
   "source": [
    "import os, sys\n",
    "import shutil\n",
    "import pandas as pd\n",
    "import numpy as np"
   ]
  },
  {
   "cell_type": "code",
   "execution_count": 2,
   "metadata": {
    "tags": []
   },
   "outputs": [],
   "source": [
    "# !jt -l\n",
    "# # !jt -T\n",
    "# !jt -r"
   ]
  },
  {
   "cell_type": "code",
   "execution_count": 3,
   "metadata": {
    "tags": []
   },
   "outputs": [
    {
     "output_type": "stream",
     "name": "stdout",
     "text": "main:  c:\\Users\\jgoss\\Documents\\_Olin\\DRF_engineering\\LibGen_KiCad\nprj:  c:\\Users\\jgoss\\Documents\\_Olin\\DRF_engineering\\LibGen_KiCad\\tests_ignore\n"
    }
   ],
   "source": [
    "main = os.getcwd()\n",
    "print('main: ', main)\n",
    "os.chdir(main + '\\\\' + 'tests_ignore')\n",
    "prj = os.getcwd()\n",
    "print('prj: ', prj)\n",
    "# os.chdir(main)\n",
    "# os.getcwd()"
   ]
  },
  {
   "cell_type": "code",
   "execution_count": 4,
   "metadata": {
    "tags": []
   },
   "outputs": [],
   "source": [
    "# for root, dirs, files in os.walk(prj):\n",
    "#     print(root)\n",
    "#     print(dirs)\n",
    "#     print(files)"
   ]
  },
  {
   "cell_type": "code",
   "execution_count": 5,
   "metadata": {
    "tags": []
   },
   "outputs": [
    {
     "output_type": "stream",
     "name": "stdout",
     "text": "['1217861-1.dcm', 'ECG_MOUSE-cache.lib', 'ECG_MOUSE.csv', 'ECG_MOUSE.lib', 'ECG_MOUSE.net', 'main_copy.lib', 'orig_ECG_MOUSE', 'templibrary.lib', 'test_copy']\n"
    }
   ],
   "source": [
    "shutil.copy2('ECG_MOUSE.csv', 'test_copy')\n",
    "for root, dirs, files in os.walk(prj):\n",
    "    print(files)"
   ]
  },
  {
   "cell_type": "markdown",
   "metadata": {},
   "source": [
    "## Extract .csv data from file into DataFrame"
   ]
  },
  {
   "cell_type": "code",
   "execution_count": 6,
   "metadata": {
    "tags": []
   },
   "outputs": [
    {
     "output_type": "stream",
     "name": "stdout",
     "text": "Reference  Value                                          Footprint  \\\n1       TP1   5019  Measurement_Points:Test_Point_Keystone_5019_Mi...   \n2       C20    .1u                              Capacitors_SMD:C_0805   \n3       C18    47u                     Capacitors_SMD:CP_Elec_6.3x7.7   \n4        D2  GREEN                                      LEDs:LED_0603   \n5        D1  GREEN                                      LEDs:LED_0603   \n\n                                           Datasheet          Manufacturer  \\\n1      http://www.keyelco.com/product-pdf.cfm?p=1357  Keystone Electronics   \n2  https://content.kemet.com/datasheets/KEM_C1002...                 Kemet   \n3  https://industrial.panasonic.com/ww/products/c...             Panasonic   \n4  https://media.digikey.com/pdf/Data%20Sheets/Li...                LITEON   \n5  https://media.digikey.com/pdf/Data%20Sheets/Li...                LITEON   \n\n        Part Number Manufacturer Part No. Description Manufacturer_Name  \\\n1              5019                                                       \n2  C0805C104J8RACTU                                                       \n3     EEE-FP1C470AP                                                       \n4      LTST-C190GKT                                                       \n5      LTST-C190GKT                                                       \n\n  Manufacturer_Part_Number  \n1                           \n2                           \n3                           \n4                           \n5                           \n"
    }
   ],
   "source": [
    "mpn = \"Manufacturer Part Number\"\n",
    "mpn_ = 'Manufacturer_Part_Number'\n",
    "mpno = 'Manufacturer Part No.'\n",
    "manuf = 'Manufacturer'\n",
    "manuf_ = 'Manufacturer_Name'\n",
    "ampn = 'Alt. Manufacturer Part Number'\n",
    "amanuf = 'Alt. Manufacturer'\n",
    "ref = 'Reference'\n",
    "ds = 'Datasheet'\n",
    "val = 'Value'\n",
    "fp = 'Footprint'\n",
    "\n",
    "with open('test_copy', 'r') as schemtxt:\n",
    "    data = schemtxt.read().splitlines()\n",
    "    headers = data[0].split(', ')       #headers need to be labeled headers\n",
    "    for line in range(0, len(data)):\n",
    "        # data[line] = data[line].split('\",\"')\n",
    "            #replace commas with double => prev. issues @mpns w/commas\n",
    "        data[line] = data[line].replace('\",\"', ',,').strip('\"')\n",
    "        # data[line] = data[line][:-1]\n",
    "        data[line] = data[line].split(',,')\n",
    "        \n",
    "    data = data[1:len(data)]\n",
    "    #re-init data w/o headers\n",
    "\n",
    "    df = pd.DataFrame(data, index = np.arange(1, len(data)+1), columns = headers)\n",
    "#     df[mpn_] = df[mpn_].str.strip('\"')\n",
    "#     df[ref] = df[ref].str.strip('\"')\n",
    "#     df[ds] = df[ds].str.strip('\"')\n",
    "\n",
    "    print(df.head(5))\n"
   ]
  },
  {
   "cell_type": "markdown",
   "metadata": {},
   "source": [
    "## Clean Dataframe Content"
   ]
  },
  {
   "cell_type": "code",
   "execution_count": 7,
   "metadata": {
    "tags": []
   },
   "outputs": [],
   "source": [
    "\"\"\"\n",
    "columns already strings => str.cat works (string concatenation)\n",
    "https://stackoverflow.com/questions/19377969/combine-two-columns-of-text-in-dataframe-in-pandas-python \n",
    "    \"\"\"\n",
    "# df = df.rename(columns = {'Part Number' : 'MPN', \n",
    "#                             'Alternative Part Number' : 'Alt. MPN',\n",
    "#                             'Alternative Manufacturer' : 'Alt. Manufacturer'})\n",
    "################################## PART NUMBERS ##################################\n",
    "\n",
    "            #combine + delete part no. columns\n",
    "# if (len(df.columns.values[5]) == 0):\n",
    "\n",
    "if mpno or mpn_ in df.columns.values:\n",
    "    df['Part Number'] = df['Part Number'].str.cat(df[[mpno, mpn_]])\n",
    "    df = df.drop([mpn_, mpno], axis=1)\n",
    "    df = df.rename(columns = {'Part Number' : mpn})\n",
    "\n",
    "        #drops the column - df.drop([x1, x2]) allows multiple vs df.pop() and del\n",
    "\n",
    "################################## MANUF NAME ##################################\n",
    "#repeat of part numbers\n",
    "# if (len(df.columns.values[4]) == 0):\n",
    "\n",
    "if manuf_ in df.columns.values:\n",
    "    df[manuf] = df[manuf].str.cat(df[manuf_])\n",
    "    df = df.drop([manuf_], axis=1)\n",
    "\n",
    "df = df.drop(['Description'], axis=1)\n",
    "df[amanuf] = ''\n",
    "df[ampn] = ''\n"
   ]
  },
  {
   "cell_type": "code",
   "execution_count": 8,
   "metadata": {
    "tags": []
   },
   "outputs": [],
   "source": [
    "# df[amanuf] = ''\n",
    "# df[ampn] = ''\n",
    "# headers = df.columns.values.tolist()\n",
    "# print(headers)\n",
    "# print()\n",
    "# # print(type(df[ampn]))\n",
    "# for item in df.itertuples():\n",
    "#     print(type(item))\n",
    "#     print(item)\n",
    "#     # u = item.tolist()\n",
    "#     print(type(u), '\\n', u)\n",
    "\n",
    "#     break;"
   ]
  },
  {
   "cell_type": "markdown",
   "metadata": {
    "tags": []
   },
   "source": [
    "#### At this point, the escheema file with no extension (the un-extensioned .csv file) that contains the schematic listed information for all of the parts on the schematic has been...\n",
    "* converted into a dataframe - BINGO\n",
    "  * move on to library\n",
    "* had extra fields removed - BINGO \n",
    "  * move on to library\n",
    "* successfully interpretable by KiCad - NOPE\n",
    "  * STOP PURSUIT\n",
    "\n",
    "Turns out there was an error in how I was running the command line operation for the scripts to convert a schematic into a .csv file. We noticed that we received a .xml file, but after some further research and the __failure of the third bullet__, I discovered that the file with no extension... Was in fact... the .csv file that we were missing. \n",
    "\n",
    "* This has now been resolved by adding the needed .csv after the capital O in the command line script. "
   ]
  },
  {
   "cell_type": "code",
   "execution_count": 9,
   "metadata": {
    "tags": []
   },
   "outputs": [],
   "source": [
    "# print(headers)\n",
    "# print(type(df))\n",
    "# print(df.shape, df.size)\n",
    "# print(df)"
   ]
  },
  {
   "cell_type": "markdown",
   "metadata": {},
   "source": [
    "____\n",
    "## Creating the Library (From .csv)"
   ]
  },
  {
   "cell_type": "code",
   "execution_count": 75,
   "metadata": {},
   "outputs": [],
   "source": [
    "import os, sys\n",
    "import shutil\n",
    "import pandas as pd\n",
    "import numpy as np\n"
   ]
  },
  {
   "cell_type": "code",
   "execution_count": 76,
   "metadata": {},
   "outputs": [],
   "source": [
    "# %%javascript\n",
    "# IPython.OutputArea.auto_scroll_threshold = 9999;"
   ]
  },
  {
   "cell_type": "code",
   "execution_count": 77,
   "metadata": {},
   "outputs": [],
   "source": [
    "# os.chdir(main)\n",
    "# os.getcwd()"
   ]
  },
  {
   "cell_type": "code",
   "execution_count": 78,
   "metadata": {
    "tags": []
   },
   "outputs": [
    {
     "output_type": "stream",
     "name": "stdout",
     "text": "prj:  c:\\Users\\jgoss\\Documents\\_Olin\\DRF_engineering\\LibGen_KiCad\\tests_ignore\n"
    }
   ],
   "source": [
    "# main = os.getcwd()\n",
    "# print('main: ', main)\n",
    "# os.chdir(main + '\\\\' + 'tests_ignore')\n",
    "prj = os.getcwd()\n",
    "print('prj: ', prj)"
   ]
  },
  {
   "cell_type": "code",
   "execution_count": 79,
   "metadata": {
    "tags": []
   },
   "outputs": [],
   "source": [
    "with open('ECG_MOUSE-cache.lib', 'r') as raw:\n",
    "    raw = raw.read().split('ENDDEF\\n')\n",
    "    compdetails = dict()\n",
    "    for item in raw:\n",
    "        if 'R-Device' in item:                                      #resistor\n",
    "            compdetails.update({'res' : item + 'ENDDEF\\n\\n'})\n",
    "        \n",
    "        if 'C-Device' in item:                                      #capacitor\n",
    "            compdetails.update({'c' : item + 'ENDDEF\\n\\n'})\n",
    "\n",
    "        if 'CP-Device' in item:                                     #polarized capacitor\n",
    "            compdetails.update({'cp' : item + 'ENDDEF\\n\\n'})\n",
    "\n",
    "#extra types\n",
    "        # if 'C_Small' in item:\n",
    "        #     compdetails.update({'csmall' : item})            \n",
    "            #draw unpolarized cap\n",
    "#         if 'CP_Small' in item:\n",
    "#             compdetails.update({'cpsmall' : item})\n",
    "#             ##draw small unpolarized cap\n",
    "#         if 'CP1-Device' in item:\n",
    "# #             cpdraw_us = item\n",
    "#             compdetails.update({'cp1' : item})\n",
    "#             #draw us symbol capacitor\n",
    "#         if 'CP1_Small' in item:\n",
    "#             compdetails.update({'cp1small' : item})\n",
    "\n",
    "\n",
    "        item = item + 'ENDDEF\\n'+'\\n'\n",
    "# compdetails.update('C0805fp' : 'Capacitors_SMD:C_0805')\n",
    "# compdetails.update('R0805fp' : 'Resistors_SMD:R_0805')\n",
    "        #SAAD DIDN'T GIVE ME FOOTPRINT ACCESS\n",
    "    "
   ]
  },
  {
   "cell_type": "markdown",
   "metadata": {},
   "source": [
    "Library content was successfully taken out and put into a dictionary containing all of the parts details. Now each dictionary entry needs to be replicated and do the desired thing...\n",
    "\n",
    "* Create a passive component (Resistor/Capacitor) with the desired symbol\n",
    "* Assign it a desired value\n",
    "* Insert the other requested fields\n",
    "Then a successful library has been generated for import (if header and footer text of file are included)"
   ]
  },
  {
   "cell_type": "markdown",
   "metadata": {},
   "source": [
    "Cool things to do, that would be cool to accelerate this process\n",
    "* A list of desired 0805 resistor/capacitor values for sweeping\n",
    "* A list of desired 0605 resistor/capacitor values for sweeping\n",
    "* The footprint strings that are necessary\n",
    "    * The managing of libraries would have to be done as well\n",
    "* Maybe make a webscraping thing to get these links off of digikey for me?\n",
    "    * Maybe have like a preferred manufacturer?\n",
    "    * Manufacturer & MPN + Alts?\n",
    "* Have a setup that can let me sweep through Saad's other projects as well?\n",
    "    * Full python script that can run in terminal?\n",
    "    * Institute classes and other stuff\n",
    "    * Ask for string input for document sweeping and generation?\n",
    "    * Learn how to implement a GUI?"
   ]
  },
  {
   "cell_type": "code",
   "execution_count": 80,
   "metadata": {
    "tags": []
   },
   "outputs": [
    {
     "output_type": "stream",
     "name": "stdout",
     "text": "#\n# name\n#\nDEF name C 0 10 N Y 0 F N\nF0 \"thing0\" 25 100 50 H V L CNN\nF1 \"thing1\" 25 -100 50 H V L CNN\nF2 \"thing2\" 38 -150 50 H I C CNN\nF3 \"thing3\" 0 0 50 H I C CNN\nF4 \"thing4\"  0 0 50 H I C CNN\nF5 \"thing5\"  0 0 50 H I C CNN\nF8 \"thing6\"  0 0 50 H I C CNN\nF7 \"thing7\"  0 0 50 H I C CNN\n$FPLIST\n C_0805*\n$ENDFPLIST\nDRAW\nS -90 20 90 40 0 1 0 N\nS 90 -20 -90 -40 0 1 0 F\nP 2 0 1 0 -70 90 -30 90 N\nP 2 0 1 0 -50 110 -50 70 N\nX ~ 1 0 150 110 D 50 50 1 1 P\nX ~ 2 0 -150 110 U 50 50 1 1 P\nENDDRAW\nENDDEF\n\n"
    }
   ],
   "source": [
    "def add_fields (manuf, mpn, amanuf, ampn, pck):\n",
    "    arbpos = ' 0 0 50 H I C CNN'\n",
    "    field4 = 'F4 \"{k}\" {j}'.format(k=manuf, j=arbpos)\n",
    "    field5 = 'F5 \"{k}\" {j}'.format(k=mpn, j=arbpos)\n",
    "    field6 = 'F8 \"{k}\" {j}'.format(k=amanuf, j=arbpos)\n",
    "    field7 = 'F7 \"{k}\" {j}'.format(k=ampn, j=arbpos)\n",
    "\n",
    "    return field4, field5, field6, field7\n",
    "\n",
    "\n",
    "def libadd (name, prt, pck, field0, field1, field2, field3, field4, field5, field6, field7):\n",
    "# def libadd (name, prt, pck, *args, **kwargs):\n",
    "    \"\"\"\n",
    "        name = definition\n",
    "        prt = R/C (resistor or capacitor or polarized capacitor)\n",
    "        pck = 0805/0603 (package)\n",
    "        f0 = reference\n",
    "        f1 = name/definition\n",
    "        f2 = footprint\n",
    "        f3 = datasheet\n",
    "        f4 = manufacturer\n",
    "        f5 = mpn\n",
    "        f6 = alt manufacturer\n",
    "        f7 alt mpn\n",
    "        \"\"\"\n",
    "    \n",
    "    # for a in range(len(*args)):\n",
    "    #     a = 'a{f}'.format\n",
    "\n",
    "    partheader = '#\\n# {k}\\n#'.format(k=name)\n",
    "    if prt == 'R':        #regular resistor\n",
    "        DEF = 'DEF {k} R 0 0 N Y 1 F N'.format(k=name)\n",
    "        f0 = 'F0 \"{k}\" 80 0 50 V V C CNN'.format(k=field0)\n",
    "        f1 = 'F1 \"{k}\" 80 0 50 V V C CNN'.format(k=field1)\n",
    "        f2 = 'F2 \"{k}\" 80 0 50 V V C CNN'.format(k=field2)\n",
    "        f3 = 'F3 \"{k}\" 0 0 50 H I C CNN'.format(k=field3)\n",
    "\n",
    "####### add in the other fields, and footer(footprint + drawing) ####\n",
    "####### make this part optional \"\"\"\"\"\"\"\"\"\"\n",
    "        f4, f5, f6, f7 = add_fields(field4, field5, field6, field7, pck)\n",
    "        # partfooter = compdetails['res'][compdetails['res'].find('$FPLIST'): \\\n",
    "        #                     compdetails['res'].find('\\n #')]\n",
    "        index1 = compdetails['cp'].find('$ENDFPLIST')\n",
    "        index2 = compdetails['cp'].find('\\n #')\n",
    "        fplst = '$FPLIST\\n' + ' {k}_{j}*'.format(k=prt, j=pck)\n",
    "\n",
    "        partfooter = '\\n'.join([fplst, compdetails['cp'][index1:index2]])\n",
    "        \n",
    "    if prt == 'C':        #regular capacitor\n",
    "        DEF = 'DEF {k} C 0 10 N Y 0 F N'.format(k=name)\n",
    "        f0 = 'F0 \"{k}\" 25 100 50 H V L CNN'.format(k=field0)\n",
    "        f1 = 'F1 \"{k}\" 25 -100 50 H V L CNN'.format(k=field1) \n",
    "        f2 = 'F2 \"{k}\" 38 -150 50 H I C CNN'.format(k=field2)\n",
    "        f3 = 'F3 \"{k}\" 0 0 50 H I C CNN'.format(k=field3)\n",
    "\n",
    "        f4, f5, f6, f7 = add_fields(field4, field5, field6, field7, pck)\n",
    "        index1 = compdetails['cp'].find('$ENDFPLIST')\n",
    "        index2 = compdetails['cp'].find('\\n #')\n",
    "        fplst = '$FPLIST\\n' + ' {k}_{j}*'.format(k=prt, j=pck)\n",
    "\n",
    "        partfooter = '\\n'.join([fplst, compdetails['cp'][index1:index2]])        \n",
    "        # partfooter = compdetails['c'][compdetails['c'].find('$FPLIST'): \\\n",
    "        #                     compdetails['c'].find('\\n #')]\n",
    "\n",
    "    if prt == 'CP':           #polarized capacitor\n",
    "        DEF = 'DEF {k} C 0 10 N Y 1 F N'.format(k=name)\n",
    "        f0 = 'F0 \"{k}\" 25 100 50 H V L CNN'.format(k=field0)\n",
    "        f1 = 'F1 \"{k}\" 25 -100 50 H V L CNN'.format(k=field1)\n",
    "        f2 = 'F2 \"{k}\" 38 -150 50 H I C CNN'.format(k=field2)\n",
    "        f3 = 'F3 \"{k}\" 0 0 50 H I C CNN'.format(k=field3)\n",
    "        \n",
    "        f4, f5, f6, f7 = add_fields(field4, field5, field6, field7, pck)\n",
    "        index1 = compdetails['cp'].find('$ENDFPLIST')\n",
    "        index2 = compdetails['cp'].find('\\n #')\n",
    "        fplst = '$FPLIST\\n' + ' {k}_{j}*'.format(k=prt, j=pck)\n",
    "\n",
    "        partfooter = '\\n'.join([fplst, compdetails['cp'][index1:index2]])+'\\n'\n",
    "\n",
    "    newprt = '\\n'.join([partheader, DEF, f0, f1, f2, \\\n",
    "                f3, f4, f5, f6, f7, partfooter])\n",
    "\n",
    "        \n",
    "    return newprt\n",
    "\n",
    "\n",
    "test = libadd('name', 'C', '0805', 'thing0', 'thing1', 'thing2', 'thing3', 'thing4', 'thing5', 'thing6', 'thing7')\n",
    "print(test)"
   ]
  },
  {
   "cell_type": "code",
   "execution_count": 81,
   "metadata": {
    "tags": []
   },
   "outputs": [
    {
     "output_type": "stream",
     "name": "stdout",
     "text": "['EESchema-LIBRARY Version 2.4\\n', '#encoding utf-8\\n', '#\\n', '# +5V-power\\n', '#\\n', 'DEF +5V-power #PWR 0 0 Y Y 1 F P\\n', 'F0 \"#PWR\" 0 -150 50 H I C CNN\\n', 'F1 \"+5V-power\" 0 140 50 H V C CNN\\n', 'F2 \"\" 0 0 50 H I C CNN\\n', 'F3 \"\" 0 0 50 H I C CNN\\n', 'DRAW\\n', 'P 2 0 1 0 -30 50 0 100 N\\n', 'P 2 0 1 0 0 0 0 100 N\\n', 'P 2 0 1 0 0 100 30 50 N\\n', 'X +5V 1 0 0 0 U 50 50 1 1 W N\\n', 'ENDDRAW\\n', 'ENDDEF\\n', '#\\n', '# -5V-power\\n', '#\\n', 'DEF -5V-power #PWR 0 0 Y Y 1 F P\\n', 'F0 \"#PWR\" 0 100 50 H I C CNN\\n', 'F1 \"-5V-power\" 0 150 50 H V C CNN\\n', 'F2 \"\" 0 0 50 H I C CNN\\n', 'F3 \"\" 0 0 50 H I C CNN\\n', 'DRAW\\n', 'P 6 0 1 0 0 0 0 50 30 50 0 100 -30 50 0 50 F\\n', 'X -5V 1 0 0 0 U 50 50 0 0 W N\\n', 'ENDDRAW\\n', 'ENDDEF\\n', '#\\n', '# AD8421\\n', '#\\n', 'DEF AD8421 U 0 20 Y Y 1 F N\\n', 'F0 \"U\" 150 300 50 H V C CNN\\n', 'F1 \"AD8421\" 150 200 50 H V C CNN\\n', 'F2 \"\" -300 0 50 H I C CNN\\n', 'F3 \"\" 350 -400 50 H I C CNN\\n', '$FPLIST\\n', ' SOIC*3.9x4.9mm*Pitch1.27mm*\\n', ' MSOP*3x3mm*Pitch0.65mm*\\n', '$ENDFPLIST\\n', 'DRAW\\n', 'P 4 0 1 10 -300 300 -300 -300 300 0 -300 300 f\\n', 'X - 1 -400 200 100 R 50 50 1 1 I\\n', 'X Rg 2 -400 100 100 R 50 50 1 1 P\\n', 'X Rg 3 -400 -100 100 R 50 50 1 1 P\\n', 'X + 4 -400 -200 100 R 50 50 1 1 I\\n', 'X Vs- 5 -100 -300 100 U 50 50 1 1 W\\n', 'X Ref 6 100 -300 200 U 50 50 1 1 P\\n', 'X ~ 7 400 0 100 L 50 50 1 1 O\\n', 'X Vs+ 8 -100 300 100 D 50 50 1 1 W\\n', 'ENDDRAW\\n', 'ENDDEF\\n', '#\\n', '# C-Device\\n', '#\\n', 'DEF C-Device C 0 10 N Y 1 F N\\n', 'F0 \"C\" 25 100 50 H V L CNN\\n', 'F1 \"C-Device\" 25 -100 50 H V L CNN\\n', 'F2 \"\" 38 -150 50 H I C CNN\\n', 'F3 \"\" 0 0 50 H I C CNN\\n', '$FPLIST\\n', ' C_*\\n', '$ENDFPLIST\\n', 'DRAW\\n', 'P 2 0 1 20 -80 -30 80 -30 N\\n', 'P 2 0 1 20 -80 30 80 30 N\\n', 'X ~ 1 0 150 110 D 50 50 1 1 P\\n', 'X ~ 2 0 -150 110 U 50 50 1 1 P\\n', 'ENDDRAW\\n', 'ENDDEF\\n', '#\\n', '# CP-Device\\n', '#\\n', 'DEF CP-Device C 0 10 N Y 1 F N\\n', 'F0 \"C\" 25 100 50 H V L CNN\\n', 'F1 \"CP-Device\" 25 -100 50 H V L CNN\\n', 'F2 \"\" 38 -150 50 H I C CNN\\n', 'F3 \"\" 0 0 50 H I C CNN\\n', '$FPLIST\\n', ' CP_*\\n', '$ENDFPLIST\\n', 'DRAW\\n', 'S -90 20 90 40 0 1 0 N\\n', 'S 90 -20 -90 -40 0 1 0 F\\n', 'P 2 0 1 0 -70 90 -30 90 N\\n', 'P 2 0 1 0 -50 110 -50 70 N\\n', 'X ~ 1 0 150 110 D 50 50 1 1 P\\n', 'X ~ 2 0 -150 110 U 50 50 1 1 P\\n', 'ENDDRAW\\n', 'ENDDEF\\n', '#\\n', '# Conn_01x01\\n', '#\\n', 'DEF Conn_01x01 J 0 40 Y N 1 F N\\n', 'F0 \"J\" 0 100 50 H V C CNN\\n', 'F1 \"Conn_01x01\" 0 -100 50 H V C CNN\\n', 'F2 \"\" 0 0 50 H I C CNN\\n', 'F3 \"\" 0 0 50 H I C CNN\\n', '$FPLIST\\n', ' Connector*:*_??x*mm*\\n', ' Connector*:*1x??x*mm*\\n', ' Pin?Header?Straight?1X*\\n', ' Pin?Header?Angled?1X*\\n', ' Socket?Strip?Straight?1X*\\n', ' Socket?Strip?Angled?1X*\\n', '$ENDFPLIST\\n', 'DRAW\\n', 'S -50 5 0 -5 1 1 6 N\\n', 'S -50 50 50 -50 1 1 10 f\\n', 'X Pin_1 1 -200 0 150 R 50 50 1 1 P\\n', 'ENDDRAW\\n', 'ENDDEF\\n', '#\\n', '# Conn_01x03\\n', '#\\n', 'DEF Conn_01x03 J 0 40 Y N 1 F N\\n', 'F0 \"J\" 0 200 50 H V C CNN\\n', 'F1 \"Conn_01x03\" 0 -200 50 H V C CNN\\n', 'F2 \"\" 0 0 50 H I C CNN\\n', 'F3 \"\" 0 0 50 H I C CNN\\n', '$FPLIST\\n', ' Connector*:*_??x*mm*\\n', ' Connector*:*1x??x*mm*\\n', ' Pin?Header?Straight?1X*\\n', ' Pin?Header?Angled?1X*\\n', ' Socket?Strip?Straight?1X*\\n', ' Socket?Strip?Angled?1X*\\n', '$ENDFPLIST\\n', 'DRAW\\n', 'S -50 -95 0 -105 1 1 6 N\\n', 'S -50 5 0 -5 1 1 6 N\\n', 'S -50 105 0 95 1 1 6 N\\n', 'S -50 150 50 -150 1 1 10 f\\n', 'X Pin_1 1 -200 100 150 R 50 50 1 1 P\\n', 'X Pin_2 2 -200 0 150 R 50 50 1 1 P\\n', 'X Pin_3 3 -200 -100 150 R 50 50 1 1 P\\n', 'ENDDRAW\\n', 'ENDDEF\\n', '#\\n', '# D-RESCUE-MouseECGamp\\n', '#\\n', 'DEF D-RESCUE-MouseECGamp D 0 40 N N 1 F N\\n', 'F0 \"D\" 0 100 50 H V C CNN\\n', 'F1 \"D-RESCUE-MouseECGamp\" 0 -100 50 H V C CNN\\n', 'F2 \"\" 0 0 50 H I C CNN\\n', 'F3 \"\" 0 0 50 H I C CNN\\n', '$FPLIST\\n', ' TO-???*\\n', ' *SingleDiode\\n', ' *_Diode_*\\n', ' *SingleDiode*\\n', ' D_*\\n', '$ENDFPLIST\\n', 'DRAW\\n', 'P 2 0 1 8 -50 50 -50 -50 N\\n', 'P 2 0 1 0 50 0 -50 0 N\\n', 'P 4 0 1 8 50 50 50 -50 -50 0 50 50 N\\n', 'X A A 150 0 100 L 50 50 1 1 P\\n', 'X K K -150 0 100 R 50 50 1 1 P\\n', 'ENDDRAW\\n', 'ENDDEF\\n', '#\\n', '# EMI_Filter_CommonMode-RESCUE-MouseECGamp\\n', '#\\n', 'DEF EMI_Filter_CommonMode-RESCUE-MouseECGamp FL 0 10 Y N 1 F N\\n', 'F0 \"FL\" 0 175 50 H V C CNN\\n', 'F1 \"EMI_Filter_CommonMode-RESCUE-MouseECGamp\" 0 -175 50 H V C CNN\\n', 'F2 \"\" 0 40 50 V V C CNN\\n', 'F3 \"\" 0 40 50 V V C CNN\\n', '$FPLIST\\n', ' L_*\\n', ' L_CommonMode*\\n', '$ENDFPLIST\\n', 'DRAW\\n', 'A -80 -80 20 1 1799 0 1 0 N -60 -80 -100 -80\\n', 'A -80 80 20 -1799 -1 0 1 0 N -100 80 -60 80\\n', 'A -40 -80 20 1 1799 0 1 0 N -20 -80 -60 -80\\n', 'A -40 80 20 -1799 -1 0 1 0 N -60 80 -20 80\\n', 'A 0 -80 20 1 1799 0 1 0 N 20 -80 -20 -80\\n', 'A 0 80 20 -1799 -1 0 1 0 N -20 80 20 80\\n', 'A 40 -80 20 1 1799 0 1 0 N 60 -80 20 -80\\n', 'A 40 80 20 -1799 -1 0 1 0 N 20 80 60 80\\n', 'A 80 -80 20 1 1799 0 1 0 N 100 -80 60 -80\\n', 'A 80 80 20 -1799 -1 0 1 0 N 60 80 100 80\\n', 'C -120 -50 10 0 1 0 F\\n', 'C -120 60 10 0 1 0 F\\n', 'P 2 0 1 0 -100 -80 -100 -100 N\\n', 'P 2 0 1 0 -100 20 100 20 N\\n', 'P 2 0 1 0 -100 80 -100 100 N\\n', 'P 2 0 1 0 100 -80 100 -100 N\\n', 'P 2 0 1 0 100 -20 -100 -20 N\\n', 'P 2 0 1 0 100 100 100 80 N\\n', 'X 1 1 200 100 100 L 50 50 1 1 P\\n', 'X 2 2 -200 100 100 R 50 50 1 1 P\\n', 'X 3 3 -200 -100 100 R 50 50 1 1 P\\n', 'X 4 4 200 -100 100 L 50 50 1 1 P\\n', 'ENDDRAW\\n', 'ENDDEF\\n', '#\\n', '# Earth_Protective-power\\n', '#\\n', 'DEF Earth_Protective-power #PWR 0 0 Y Y 1 F P\\n', 'F0 \"#PWR\" 250 -250 50 H I C CNN\\n', 'F1 \"Earth_Protective-power\" 450 -150 50 H I C CNN\\n', 'F2 \"\" 0 -100 50 H I C CNN\\n', 'F3 \"\" 0 -100 50 H I C CNN\\n', 'DRAW\\n', 'C 0 -150 100 0 1 0 N\\n', 'P 2 0 1 0 -25 -175 25 -175 N\\n', 'P 2 0 1 0 -5 -200 5 -200 N\\n', 'P 2 0 1 0 0 -150 0 0 N\\n', 'P 2 0 1 0 50 -150 -50 -150 N\\n', 'X Earth_Protective 1 0 0 0 D 50 50 1 1 W N\\n', 'ENDDRAW\\n', 'ENDDEF\\n', '#\\n', '# GND-power\\n', '#\\n', 'DEF GND-power #PWR 0 0 Y Y 1 F P\\n', 'F0 \"#PWR\" 0 -250 50 H I C CNN\\n', 'F1 \"GND-power\" 0 -150 50 H V C CNN\\n', 'F2 \"\" 0 0 50 H I C CNN\\n', 'F3 \"\" 0 0 50 H I C CNN\\n', 'DRAW\\n', 'P 6 0 1 0 0 0 0 -50 50 -50 0 -100 -50 -50 0 -50 N\\n', 'X GND 1 0 0 0 D 50 50 1 1 W N\\n', 'ENDDRAW\\n', 'ENDDEF\\n', '#\\n', '# INA193-RESCUE-MouseECGamp\\n', '#\\n', 'DEF INA193-RESCUE-MouseECGamp U 0 10 Y Y 1 F N\\n', 'F0 \"U\" 150 150 50 H V C CNN\\n', 'F1 \"INA193-RESCUE-MouseECGamp\" 150 -150 50 H V C CNN\\n', 'F2 \"TO_SOT_Packages_SMD:SOT-23-5\" 0 0 50 H I C CNN\\n', 'F3 \"\" 0 0 50 H I C CNN\\n', '$FPLIST\\n', ' *SOT*23*\\n', '$ENDFPLIST\\n', 'DRAW\\n', 'P 4 0 1 10 200 0 -200 200 -200 -200 200 0 f\\n', 'X ~ 1 300 0 100 L 50 50 1 1 O\\n', 'X GND 2 -100 -300 150 U 50 50 1 1 W\\n', 'X + 3 -300 -100 100 R 50 50 1 1 I\\n', 'X - 4 -300 100 100 R 50 50 1 1 I\\n', 'X V+ 5 -100 300 150 D 50 50 1 1 W\\n', 'ENDDRAW\\n', 'ENDDEF\\n', '#\\n', '# IRM-05-5\\n', '#\\n', 'DEF IRM-05-5 U 0 40 Y Y 1 L N\\n', 'F0 \"U\" -401 300 50 H V L BNN\\n', 'F1 \"IRM-05-5\" -400 -400 50 H V L BNN\\n', 'F2 \"CONV_IRM-05-5\" 0 0 50 H I L BNN\\n', 'F3 \"Unavailable\" 0 0 50 H I L BNN\\n', 'F4 \"AC-DC Single output Encapsulated power supply; Output 5Vdc at 1.0A; PCB mount, miniature size\" 0 0 50 H I L BNN\\n', 'F5 \"IRM-05-5\" 0 0 50 H I L BNN\\n', 'F6 \"None\" 0 0 50 H I L BNN\\n', 'F7 \"DIP-4 Mean Well\" 0 0 50 H I L BNN\\n', 'F8 \"Mean Well\" 0 0 50 H I L BNN\\n', 'DRAW\\n', 'P 2 0 0 10 -400 -300 -400 300 N\\n', 'P 2 0 0 10 -400 300 400 300 f\\n', 'P 2 0 0 10 400 -300 -400 -300 N\\n', 'P 2 0 0 10 400 300 400 -300 N\\n', 'X +V +V 600 100 200 L 40 40 0 0 O\\n', 'X -V -V 600 -100 200 L 40 40 0 0 O\\n', 'X AC(L) AC/L -600 100 200 R 40 40 0 0 I\\n', 'X AC(N) AC/N -600 -100 200 R 40 40 0 0 I\\n', 'ENDDRAW\\n', 'ENDDEF\\n', '#\\n', '# LED-RESCUE-MouseECGamp\\n', '#\\n', 'DEF LED-RESCUE-MouseECGamp D 0 40 Y N 1 F N\\n', 'F0 \"D\" 0 100 50 H V C CNN\\n', 'F1 \"LED-RESCUE-MouseECGamp\" 0 -100 50 H V C CNN\\n', 'F2 \"\" 0 0 50 H I C CNN\\n', 'F3 \"\" 0 0 50 H I C CNN\\n', '$FPLIST\\n', ' LED*\\n', '$ENDFPLIST\\n', 'DRAW\\n', 'P 2 0 1 8 -50 -50 -50 50 N\\n', 'P 2 0 1 0 -50 0 50 0 N\\n', 'P 4 0 1 8 50 -50 50 50 -50 0 50 -50 N\\n', 'P 5 0 1 0 -120 -30 -180 -90 -150 -90 -180 -90 -180 -60 N\\n', 'P 5 0 1 0 -70 -30 -130 -90 -100 -90 -130 -90 -130 -60 N\\n', 'X A A 150 0 100 L 50 50 1 1 P\\n', 'X K K -150 0 100 R 50 50 1 1 P\\n', 'ENDDRAW\\n', 'ENDDEF\\n', '#\\n', '# LT3582EUD-5PBF\\n', '#\\n', 'DEF LT3582EUD-5PBF U 0 30 Y Y 1 F N\\n', 'F0 \"U\" 1000 -950 50 H V L CNN\\n', 'F1 \"LT3582EUD-5PBF\" 1000 -1050 50 H V L CNN\\n', 'F2 \"QFN50P300X300X80-17N\" 950 -1150 50 H I L CNN\\n', 'F3 \"\" 350 -950 50 V I L CNN\\n', 'F4 \"Boost and Single Inductor Inverting DC/DC Converters with  Optional I2C Programing and OTP\" -450 450 50 H I L CNN \"Description\"\\n', 'F5 \"Linear Technology\" 150 650 50 H I L CNN \"Manufacturer_Name\"\\n', 'F6 \"LT3582EUD-5PBF\" 150 550 50 H I L CNN \"Manufacturer_Part_Number\"\\n', 'DRAW\\n', 'P 5 0 1 6 200 100 1100 100 1100 -900 200 -900 200 100 N\\n', 'X CAPP_2 10 1300 -250 200 L 50 50 0 0 B\\n', 'X CAPP 11 1300 -150 200 L 50 50 0 0 B\\n', 'X SWP 12 850 300 200 D 50 50 0 0 B\\n', 'X GND_2 13 1300 -550 200 L 50 50 0 0 B\\n', 'X GND 17 350 -1100 200 U 50 50 0 0 B\\n', 'X VOUTN 2 0 -650 200 R 50 50 0 0 B\\n', 'X SWN_2 3 0 -300 200 R 50 50 0 0 B\\n', 'X SWN 4 0 -400 200 R 50 50 0 0 B\\n', 'X VIN 5 450 300 200 D 50 50 0 0 B\\n', 'X RAMPN 6 950 -1100 200 U 50 50 0 0 B\\n', 'X RAMPP 7 650 -1100 200 U 50 50 0 0 B\\n', 'X ~SHDN 8 0 -150 200 R 50 50 0 0 B\\n', 'X VOUTP 9 1300 -400 200 L 50 50 0 0 B\\n', 'ENDDRAW\\n', 'ENDDEF\\n', '#\\n', '# LTC4076\\n', '#\\n', 'DEF LTC4076 U 0 20 Y Y 1 F N\\n', 'F0 \"U\" -400 950 50 H V L CNN\\n', 'F1 \"LTC4076\" 400 950 50 H V R CNN\\n', 'F2 \"Package_SO:SSOP-24_3.9x8.7mm_P0.635mm\" 0 -1000 50 H I C CNN\\n', 'F3 \"\" 0 0 50 H I C CNN\\n', '$FPLIST\\n', ' SSOP*3.9x8.7mm*P0.635mm*\\n', '$ENDFPLIST\\n', 'DRAW\\n', 'S -400 900 400 -800 0 1 10 f\\n', 'X USBIN 1 -500 250 100 R 50 50 1 1 P\\n', 'X DCIN 10 -500 750 100 R 50 50 1 1 I\\n', 'X GND 11 0 -900 100 U 50 50 1 1 W\\n', 'X NC 12 -1100 -300 100 U 50 50 1 1 N N\\n', 'X IUSB 2 -500 -250 100 R 50 50 1 1 O\\n', 'X ITERM/IUSBL 3 500 -350 100 L 50 50 1 1 C\\n', 'X ~PWR 4 500 0 100 L 50 50 1 1 C\\n', 'X ~CHRG 5 500 400 100 L 50 50 1 1 P\\n', 'X ~EN 6 -500 0 100 R 50 50 1 1 I\\n', 'X HPWR 7 -500 500 100 R 50 50 1 1 I\\n', 'X IDC 8 -500 -500 100 R 50 50 1 1 O\\n', 'X BAT 9 500 750 100 L 50 50 1 1 I\\n', 'ENDDRAW\\n', 'ENDDEF\\n', '#\\n', '# OPA2134\\n', '#\\n', 'DEF OPA2134 U 0 20 Y Y 2 F N\\n', 'F0 \"U\" 0 200 50 H V L CNN\\n', 'F1 \"OPA2134\" 0 -200 50 H V L CNN\\n', 'F2 \"\" 0 0 50 H I C CNN\\n', 'F3 \"\" 0 0 50 H I C CNN\\n', '$FPLIST\\n', ' SOIC*3.9x4.9mm*Pitch1.27mm*\\n', ' DIP*W7.62mm*\\n', ' TO*99*\\n', ' OnSemi*Micro8*\\n', ' TSSOP*3x3mm*Pitch0.65mm*\\n', ' TSSOP*4.4x3mm*Pitch0.65mm*\\n', ' MSOP*3x3mm*Pitch0.65mm*\\n', ' SSOP*3.9x4.9mm*Pitch0.635mm*\\n', ' LFCSP*2x2mm*Pitch0.5mm*\\n', ' *SIP*\\n', ' SOIC*5.3x6.2mm*Pitch1.27mm*\\n', '$ENDFPLIST\\n', 'DRAW\\n', 'P 4 0 1 10 -200 200 200 0 -200 -200 -200 200 f\\n', 'X V- 4 -100 -300 150 U 50 50 0 1 W\\n', 'X V+ 8 -100 300 150 D 50 50 0 1 W\\n', 'X ~ 1 300 0 100 L 50 50 1 1 O\\n', 'X - 2 -300 -100 100 R 50 50 1 1 I\\n', 'X + 3 -300 100 100 R 50 50 1 1 I\\n', 'X + 5 -300 100 100 R 50 50 2 1 I\\n', 'X - 6 -300 -100 100 R 50 50 2 1 I\\n', 'X ~ 7 300 0 100 L 50 50 2 1 O\\n', 'ENDDRAW\\n', 'ENDDEF\\n', '#\\n', '# R-Device\\n', '#\\n', 'DEF R-Device R 0 0 N Y 1 F N\\n', 'F0 \"R\" 80 0 50 V V C CNN\\n', 'F1 \"R-Device\" 0 0 50 V V C CNN\\n', 'F2 \"\" -70 0 50 V I C CNN\\n', 'F3 \"\" 0 0 50 H I C CNN\\n', '$FPLIST\\n', ' R_*\\n', '$ENDFPLIST\\n', 'DRAW\\n', 'S -40 -100 40 100 0 1 10 N\\n', 'X ~ 1 0 150 50 D 50 50 1 1 P\\n', 'X ~ 2 0 -150 50 U 50 50 1 1 P\\n', 'ENDDRAW\\n', 'ENDDEF\\n', '#\\n', '# SW_DPST_x2-Switch\\n', '#\\n', 'DEF SW_DPST_x2-Switch SW 0 0 Y N 2 F N\\n', 'F0 \"SW\" 0 125 50 H V C CNN\\n', 'F1 \"SW_DPST_x2-Switch\" 0 -100 50 H V C CNN\\n', 'F2 \"\" 0 0 50 H I C CNN\\n', 'F3 \"\" 0 0 50 H I C CNN\\n', 'DRAW\\n', 'C -80 0 20 0 0 0 N\\n', 'C 80 0 20 0 0 0 N\\n', 'P 2 0 0 0 -60 10 60 70 N\\n', 'X A 1 -200 0 100 R 50 50 1 1 P\\n', 'X B 2 200 0 100 L 50 50 1 1 P\\n', 'X A 3 -200 0 100 R 50 50 2 1 I\\n', 'X B 4 200 0 100 L 50 50 2 1 I\\n', 'ENDDRAW\\n', 'ENDDEF\\n', '#\\n', '# TEST\\n', '#\\n', 'DEF TEST TP 0 40 N N 1 F N\\n', 'F0 \"TP\" 0 300 50 H V C BNN\\n', 'F1 \"TEST\" 0 250 50 H V C CNN\\n', 'F2 \"\" 0 0 50 H I C CNN\\n', 'F3 \"\" 0 0 50 H I C CNN\\n', 'DRAW\\n', 'P 6 0 1 0 0 200 -50 150 0 100 50 150 0 200 0 200 N\\n', 'X ~ 1 0 0 100 U 50 50 1 1 P\\n', 'ENDDRAW\\n', 'ENDDEF\\n', '#\\n', '# Varistor-Device\\n', '#\\n', 'DEF Varistor-Device RV 0 0 N Y 1 F N\\n', 'F0 \"RV\" 125 0 50 V V C CNN\\n', 'F1 \"Varistor-Device\" -125 0 50 V V C CNN\\n', 'F2 \"\" -70 0 50 V I C CNN\\n', 'F3 \"\" 0 0 50 H I C CNN\\n', '$FPLIST\\n', ' RV_*\\n', ' Varistor*\\n', '$ENDFPLIST\\n', 'DRAW\\n', 'T 0 -70 -80 50 0 0 0 U Normal 0 C C\\n', 'S -40 -100 40 100 0 1 10 N\\n', 'P 3 0 1 0 -75 100 -75 50 75 -50 N\\n', 'X ~ 1 0 150 50 D 50 50 1 1 P\\n', 'X ~ 2 0 -150 50 U 50 50 1 1 P\\n', 'ENDDRAW\\n', 'ENDDEF\\n', '#\\n', '#End Library\\n']\n"
    }
   ],
   "source": [
    "\"\"\"\n",
    "    name = definition\n",
    "    prt = R/C (resistor or capacitor or polarized capacitor)\n",
    "    pck = 0805/0603 (package)\n",
    "    f0 = reference\n",
    "    f1 = name/definition\n",
    "    f2 = footprint\n",
    "    f3 = datasheet\n",
    "    f4 = manufacturer\n",
    "    f5 = mpn\n",
    "    f6 = alt manufacturer\n",
    "    f7 = alt mpn\n",
    "    \"\"\"\n",
    "\n",
    "mpn = '_6'\n",
    "amanuf = '_7'\n",
    "ampn = '_8'\n",
    "val = \"Value\"\n",
    "\n",
    "\n",
    "with open('templibrary.lib', 'w') as libby:\n",
    "    with open('ECG_MOUSE.lib', 'r') as ecg:\n",
    "        initlines = ecg.readlines()\n",
    "        print(initlines)\n",
    "        libby.write(''.join(initlines[0:2]))\n",
    "    for part in df.itertuples():\n",
    "        # print(part)\n",
    "        name = part.__getattribute__(val)\n",
    "        f0 = part.__getattribute__(val)\n",
    "        f1 = part.__getattribute__(ref)\n",
    "        ptype = f1[0]\n",
    "        f2 = part.__getattribute__(fp)\n",
    "        f3 = part.__getattribute__(ds)\n",
    "        f4 = part.__getattribute__(manuf)\n",
    "        f5 = part.__getattribute__(mpn)\n",
    "        f6 = part.__getattribute__(amanuf)\n",
    "        f7 = part.__getattribute__(ampn)\n",
    "        # print('hello', f5, f6, f7)\n",
    "        # print(name, f0, f1, f2, f3, f4, f5)\n",
    "        if '0805' in part.__getattribute__(fp):\n",
    "            pck = '0805'\n",
    "        elif '0805' in part.__getattribute__(fp):\n",
    "            pck = '0805'\n",
    "\n",
    "        if 'R' in f1[0] and 'RV' not in f1:\n",
    "            libby.write(libadd(name, ptype, pck, f0, f1, f2, f3, f4, f5, f6, f7))\n",
    "        if 'C' in f1[0]:\n",
    "            libby.write(libadd(name, ptype, pck, f0, f1, f2, f3, f4, f5, f6, f7))\n",
    "    libby.write('\\n#\\nEND Library')"
   ]
  },
  {
   "cell_type": "code",
   "execution_count": 82,
   "metadata": {
    "tags": []
   },
   "outputs": [
    {
     "output_type": "stream",
     "name": "stdout",
     "text": "Pandas(Index=1, Reference='TP1', Value='5019', Footprint='Measurement_Points:Test_Point_Keystone_5019_Minature', Datasheet='http://www.keyelco.com/product-pdf.cfm?p=1357', Manufacturer='Keystone Electronics', _6='5019', _7='', _8='')\n<class 'pandas.core.frame.Pandas'> \n\n5019\n<class 'str'> \n\nref is TP1\n<class 'str'> type of x = TP1\n\n\n['Reference' 'Value' 'Footprint' 'Datasheet' 'Manufacturer'\n 'Manufacturer Part Number' 'Alt. Manufacturer'\n 'Alt. Manufacturer Part Number']\n"
    }
   ],
   "source": [
    "for thing in df.itertuples():\n",
    "    print(thing)\n",
    "    print(type(thing), '\\n')\n",
    "\n",
    "    print(thing[2])\n",
    "    print(type(thing[2]), '\\n')\n",
    "\n",
    "    print('ref is ' + thing.__getattribute__(ref))\n",
    "    x = thing.__getattribute__(ref)\n",
    "    print(type(x), 'type of x = ' + x)\n",
    "    print('\\n')\n",
    "    # print(type(df[manuf]))\n",
    "    # print(df[manuf])\n",
    "\n",
    "    print(df.columns.values)\n",
    "    # print(df.columns.values)\n",
    "\n",
    "    break;\n",
    "# with open('ECG_MOUSE.lib', 'r') as ecg:\n",
    "#     initlines = ecg.readlines()\n",
    "#     print(initlines[0:2])\n",
    "# print(df.__getattribute__('Manufacturer'))"
   ]
  },
  {
   "cell_type": "code",
   "execution_count": 29,
   "metadata": {},
   "outputs": [
    {
     "output_type": "execute_result",
     "data": {
      "text/plain": "'Manufacturer Part Number'"
     },
     "metadata": {},
     "execution_count": 29
    }
   ],
   "source": [
    "df.columns[5]"
   ]
  },
  {
   "cell_type": "markdown",
   "metadata": {},
   "source": [
    "__________________\n",
    "<br/><br/><br/><br/><br/><br/><br/><br/><br/><br/><br/>\n",
    "\n",
    "\n",
    "\n",
    "\n",
    "\n",
    "\n",
    "___________"
   ]
  },
  {
   "cell_type": "markdown",
   "metadata": {},
   "source": [
    "_______\n",
    "## Extracting from the Netlist"
   ]
  },
  {
   "cell_type": "code",
   "execution_count": null,
   "metadata": {
    "tags": []
   },
   "outputs": [],
   "source": [
    "with open('ECG_MOUSE.net', 'r') as netlist:\n",
    "    temp = netlist.read()\n",
    "    startcomp, endcomp = temp.find('(component'), temp.find('(libparts')\n",
    "    # print(type(startcomp), startcomp, endcomp)\n",
    "    # print(temp[endcomp])\n",
    "    temp = temp[startcomp:endcomp]\n",
    "#     print(temp)\n",
    "            # the components section has been extracted\n",
    "    with open('netcomp.lib', 'w') as nc: \n",
    "            #netlist of components == netcomp\n",
    "        nc.write(temp)\n",
    "        "
   ]
  },
  {
   "cell_type": "code",
   "execution_count": null,
   "metadata": {
    "tags": []
   },
   "outputs": [],
   "source": [
    "# ha = 'abcdefghijklmnop\\n' + \\\n",
    "        # 'qrstuvwxyz\\n' + 'button! up'\n",
    "# print(ha.find('j', end=ha.find('button!')))\n",
    "# ha.find('button!')\n",
    "thing = 'thing'\n",
    "print(type(thing[0]))"
   ]
  },
  {
   "cell_type": "code",
   "execution_count": null,
   "metadata": {},
   "outputs": [],
   "source": [
    "# print(df)"
   ]
  },
  {
   "cell_type": "code",
   "execution_count": null,
   "metadata": {},
   "outputs": [],
   "source": []
  }
 ],
 "metadata": {
  "kernelspec": {
   "display_name": "Python 3.6.6 64-bit ('base': conda)",
   "language": "python",
   "name": "python_defaultSpec_1597086381799"
  },
  "language_info": {
   "codemirror_mode": {
    "name": "ipython",
    "version": 3
   },
   "file_extension": ".py",
   "mimetype": "text/x-python",
   "name": "python",
   "nbconvert_exporter": "python",
   "pygments_lexer": "ipython3",
   "version": "3.6.6-final"
  }
 },
 "nbformat": 4,
 "nbformat_minor": 2
}