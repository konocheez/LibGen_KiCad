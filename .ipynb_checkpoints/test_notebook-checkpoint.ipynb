{
 "cells": [
  {
   "cell_type": "code",
   "execution_count": 1,
   "metadata": {},
   "outputs": [],
   "source": [
    "import os, sys\n",
    "import shutil\n",
    "import pandas as pd\n",
    "import numpy as np"
   ]
  },
  {
   "cell_type": "code",
   "execution_count": 9,
   "metadata": {},
   "outputs": [
    {
     "name": "stdout",
     "output_type": "stream",
     "text": [
      "Available Themes: \n",
      "   chesterish\n",
      "   grade3\n",
      "   gruvboxd\n",
      "   gruvboxl\n",
      "   monokai\n",
      "   oceans16\n",
      "   onedork\n",
      "   solarizedd\n",
      "   solarizedl\n"
     ]
    }
   ],
   "source": [
    "!jt -l\n",
    "!jt -T\n",
    "!jt -t monokai"
   ]
  },
  {
   "cell_type": "code",
   "execution_count": 2,
   "metadata": {
    "tags": []
   },
   "outputs": [
    {
     "name": "stdout",
     "output_type": "stream",
     "text": [
      "main:  c:\\Users\\jgoss\\Documents\\_Olin\\DRF_engineering\\LibGen_KiCad\n",
      "prj:  c:\\Users\\jgoss\\Documents\\_Olin\\DRF_engineering\\LibGen_KiCad\\tests_ignore\n"
     ]
    }
   ],
   "source": [
    "main = os.getcwd()\n",
    "print('main: ', main)\n",
    "os.chdir(main + '\\\\' + 'tests_ignore')\n",
    "prj = os.getcwd()\n",
    "print('prj: ', prj)\n",
    "# os.chdir(main)\n",
    "# os.getcwd()"
   ]
  },
  {
   "cell_type": "code",
   "execution_count": 3,
   "metadata": {
    "tags": []
   },
   "outputs": [
    {
     "name": "stdout",
     "output_type": "stream",
     "text": [
      "c:\\Users\\jgoss\\Documents\\_Olin\\DRF_engineering\\LibGen_KiCad\\tests_ignore\n",
      "[]\n",
      "['1217861-1.dcm', 'ECG_MOUSE-cache.lib', 'ECG_MOUSE.csv', 'ECG_MOUSE.lib', 'ECG_MOUSE.net', 'main_copy.lib', 'orig_ECG_MOUSE', 'test_copy']\n"
     ]
    }
   ],
   "source": [
    "for root, dirs, files in os.walk(prj):\n",
    "    print(root)\n",
    "    print(dirs)\n",
    "    print(files)"
   ]
  },
  {
   "cell_type": "code",
   "execution_count": 13,
   "metadata": {
    "tags": []
   },
   "outputs": [
    {
     "name": "stdout",
     "output_type": "stream",
     "text": [
      "['1217861-1.dcm', 'ECG_MOUSE-cache.lib', 'ECG_MOUSE.csv', 'ECG_MOUSE.lib', 'ECG_MOUSE.net', 'main_copy.lib', 'orig_ECG_MOUSE', 'test_copy']\n"
     ]
    }
   ],
   "source": [
    "shutil.copy2('ECG_MOUSE.csv', 'test_copy')\n",
    "for root, dirs, files in os.walk(prj):\n",
    "    print(files)"
   ]
  },
  {
   "cell_type": "markdown",
   "metadata": {},
   "source": [
    "## Extract .csv data from file into DataFrame"
   ]
  },
  {
   "cell_type": "code",
   "execution_count": 17,
   "metadata": {
    "tags": []
   },
   "outputs": [
    {
     "name": "stdout",
     "output_type": "stream",
     "text": [
      "Reference  Value                                          Footprint  \\\n",
      "1       TP1   5019  Measurement_Points:Test_Point_Keystone_5019_Mi...   \n",
      "2       C20    .1u                              Capacitors_SMD:C_0805   \n",
      "3       C18    47u                     Capacitors_SMD:CP_Elec_6.3x7.7   \n",
      "4        D2  GREEN                                      LEDs:LED_0603   \n",
      "5        D1  GREEN                                      LEDs:LED_0603   \n",
      "\n",
      "                                           Datasheet          Manufacturer  \\\n",
      "1      http://www.keyelco.com/product-pdf.cfm?p=1357  Keystone Electronics   \n",
      "2  https://content.kemet.com/datasheets/KEM_C1002...                 Kemet   \n",
      "3  https://industrial.panasonic.com/ww/products/c...             Panasonic   \n",
      "4  https://media.digikey.com/pdf/Data%20Sheets/Li...                LITEON   \n",
      "5  https://media.digikey.com/pdf/Data%20Sheets/Li...                LITEON   \n",
      "\n",
      "        Part Number Manufacturer Part No. Description Manufacturer_Name  \\\n",
      "1              5019                                                       \n",
      "2  C0805C104J8RACTU                                                       \n",
      "3     EEE-FP1C470AP                                                       \n",
      "4      LTST-C190GKT                                                       \n",
      "5      LTST-C190GKT                                                       \n",
      "\n",
      "  Manufacturer_Part_Number  \n",
      "1                           \n",
      "2                           \n",
      "3                           \n",
      "4                           \n",
      "5                           \n"
     ]
    }
   ],
   "source": [
    "mpn = 'Manufacturer Part Number'\n",
    "mpn_ = 'Manufacturer_Part_Number'\n",
    "mpno = 'Manufacturer Part No.'\n",
    "manuf = 'Manufacturer'\n",
    "manuf_ = 'Manufacturer_Name'\n",
    "ampn = 'Alt. Manufacturer Part Number'\n",
    "amanuf = 'Alt. Manufacturer'\n",
    "ref = 'Reference'\n",
    "ds = 'Datasheet'\n",
    "\n",
    "with open('test_copy', 'r') as schemtxt:\n",
    "    data = schemtxt.read().splitlines()\n",
    "    headers = data[0].split(', ')       #headers need to be labeled headers\n",
    "    for line in range(0, len(data)):\n",
    "        # data[line] = data[line].split('\",\"')\n",
    "            #replace commas with double => prev. issues @mpns w/commas\n",
    "        data[line] = data[line].replace('\",\"', ',,').strip('\"')\n",
    "        # data[line] = data[line][:-1]\n",
    "        data[line] = data[line].split(',,')\n",
    "        \n",
    "    data = data[1:len(data)]\n",
    "    #re-init data w/o headers\n",
    "\n",
    "    df = pd.DataFrame(data, index = np.arange(1, len(data)+1), columns = headers)\n",
    "#     df[mpn_] = df[mpn_].str.strip('\"')\n",
    "#     df[ref] = df[ref].str.strip('\"')\n",
    "#     df[ds] = df[ds].str.strip('\"')\n",
    "\n",
    "    print(df.head(5))\n"
   ]
  },
  {
   "cell_type": "markdown",
   "metadata": {},
   "source": [
    "## Clean Dataframe Content"
   ]
  },
  {
   "cell_type": "code",
   "execution_count": 18,
   "metadata": {
    "tags": []
   },
   "outputs": [],
   "source": [
    "\"\"\"\n",
    "columns already strings => str.cat works (string concatenation)\n",
    "https://stackoverflow.com/questions/19377969/combine-two-columns-of-text-in-dataframe-in-pandas-python \n",
    "    \"\"\"\n",
    "# df = df.rename(columns = {'Part Number' : 'MPN', \n",
    "#                             'Alternative Part Number' : 'Alt. MPN',\n",
    "#                             'Alternative Manufacturer' : 'Alt. Manufacturer'})\n",
    "################################## PART NUMBERS ##################################\n",
    "\n",
    "            #combine + delete part no. columns\n",
    "# if (len(df.columns.values[5]) == 0):\n",
    "\n",
    "if mpno or mpn_ in df.columns.values:\n",
    "    df['Part Number'] = df['Part Number'].str.cat(df[[mpno,\n",
    "    mpn_]])\n",
    "    df = df.drop([mpn_, mpno], axis=1)\n",
    "    df = df.rename(columns = {'Part Number' : 'Manufacturer Part Number'})\n",
    "\n",
    "        #drops the column - df.drop([x1, x2]) allows multiple vs df.pop() and del\n",
    "\n",
    "################################## MANUF NAME ##################################\n",
    "#repeat of part numbers\n",
    "# if (len(df.columns.values[4]) == 0):\n",
    "\n",
    "if manuf_ in df.columns.values:\n",
    "    df[manuf] = df[manuf].str.cat(df[manuf_])\n",
    "    df = df.drop([manuf_], axis=1)\n",
    "\n",
    "df = df.drop(['Description'], axis=1)\n",
    "df[amanuf] = ''\n",
    "df[ampn] = ''\n",
    "headers = df.columns.values.tolist()\n"
   ]
  },
  {
   "cell_type": "markdown",
   "metadata": {
    "tags": []
   },
   "source": [
    "#### At this point, the escheema file with no extension (the un-extensioned .csv file) that contains the schematic listed information for all of the parts on the schematic has been...\n",
    "* converted into a dataframe - BINGO\n",
    "  * move on to library\n",
    "* had extra fields removed - BINGO \n",
    "  * move on to library\n",
    "* successfully interpretable by KiCad - NOPE\n",
    "  * STOP PURSUIT\n",
    "\n",
    "Turns out there was an error in how I was running the command line operation for the scripts to convert a schematic into a .csv file. We noticed that we received a .xml file, but after some further research and the __failure of the third bullet__, I discovered that the file with no extension... Was in fact... the .csv file that we were missing. \n",
    "\n",
    "* This has now been resolved by adding the needed .csv after the capital O in the command line script. "
   ]
  },
  {
   "cell_type": "code",
   "execution_count": 19,
   "metadata": {
    "tags": []
   },
   "outputs": [
    {
     "name": "stdout",
     "output_type": "stream",
     "text": [
      "['Reference', 'Value', 'Footprint', 'Datasheet', 'Manufacturer', 'Manufacturer Part Number', 'Alt. Manufacturer', 'Alt. Manufacturer Part Number']\n",
      "<class 'pandas.core.frame.DataFrame'>\n",
      "(104, 8) 832\n",
      "    Reference            Value  \\\n",
      "1         TP1             5019   \n",
      "2         C20              .1u   \n",
      "3         C18              47u   \n",
      "4          D2            GREEN   \n",
      "5          D1            GREEN   \n",
      "6         R17              249   \n",
      "7          J3        1217861-1   \n",
      "8         RV1  B72214S0271K101   \n",
      "9          M2         IRM-05-5   \n",
      "10         M1         IRM-05-5   \n",
      "11         J4        1217861-1   \n",
      "12         D3         CUS08F30   \n",
      "13         D4         CUS08F30   \n",
      "14         J6         640445-3   \n",
      "15         D5         CUS08F30   \n",
      "16         D6         CUS08F30   \n",
      "17        FL1              5mH   \n",
      "18         U2           LT3032   \n",
      "19         R5            88.7K   \n",
      "20         R1             274K   \n",
      "21        C13              10u   \n",
      "22         J5        1217861-1   \n",
      "23        R23               1    \n",
      "24        C21            0.68u   \n",
      "25        C16              .1u   \n",
      "26         H1       Conn_01x01   \n",
      "27         H2       Conn_01x01   \n",
      "28         H3       Conn_01x01   \n",
      "29         H4       Conn_01x01   \n",
      "30        TP2             5019   \n",
      "..        ...              ...   \n",
      "75         R9              200   \n",
      "76         R3              10K   \n",
      "77        IC1   LT3582EUD-5PBF   \n",
      "78         U6          LTC4076   \n",
      "79        R16             2.1K   \n",
      "80        R22               2K   \n",
      "81         D8            GREEN   \n",
      "82        C29         C-Device   \n",
      "83        C28         C-Device   \n",
      "84        SW1       SW_DPST_x2   \n",
      "85        C30              47u   \n",
      "86        C31             4.7u   \n",
      "87         L2             6.8u   \n",
      "88        D11       B0540W-7-F   \n",
      "89        C36               1u   \n",
      "90        C33             .01u   \n",
      "91        C35             4.7u   \n",
      "92        BT1     Battery_Cell   \n",
      "93        R15                1   \n",
      "94        R19            1.24K   \n",
      "95        R20              680   \n",
      "96        R21              680   \n",
      "97         D7            GREEN   \n",
      "98        R24               10   \n",
      "99        C32             4.7u   \n",
      "100       C34             .01u   \n",
      "101       D10       B0540W-7-F   \n",
      "102        L1             4.7u   \n",
      "103       D12         CUS08F30   \n",
      "104        D9         CUS08F30   \n",
      "\n",
      "                                             Footprint  \\\n",
      "1    Measurement_Points:Test_Point_Keystone_5019_Mi...   \n",
      "2                                Capacitors_SMD:C_0805   \n",
      "3                       Capacitors_SMD:CP_Elec_6.3x7.7   \n",
      "4                                        LEDs:LED_0603   \n",
      "5                                        LEDs:LED_0603   \n",
      "6                                 Resistors_SMD:R_0603   \n",
      "7                               1217861-1:TE_1217861-1   \n",
      "8                      Varistors:RV_Disc_D12_W4.4_P7.5   \n",
      "9                               IRM-05-5:CONV_IRM-05-5   \n",
      "10                              IRM-05-5:CONV_IRM-05-5   \n",
      "11                              1217861-1:TE_1217861-1   \n",
      "12                                Diodes_SMD:D_SOD-323   \n",
      "13                                Diodes_SMD:D_SOD-323   \n",
      "14                               Connectors:PINHEAD1-3   \n",
      "15                                Diodes_SMD:D_SOD-323   \n",
      "16                                Diodes_SMD:D_SOD-323   \n",
      "17   MeanWell_PS:CommonModeChoke_WuerthType-WE-CMB_...   \n",
      "18                       Package_DFN_QFN:Linear_DE14MA   \n",
      "19                                Resistors_SMD:R_0603   \n",
      "20                                Resistors_SMD:R_0603   \n",
      "21                               Capacitors_SMD:C_1210   \n",
      "22                              1217861-1:TE_1217861-1   \n",
      "23                                Resistors_SMD:R_0805   \n",
      "24                               Capacitors_SMD:C_0805   \n",
      "25                               Capacitors_SMD:C_0805   \n",
      "26                   Mounting_Holes:MountingHole_3.5mm   \n",
      "27                   Mounting_Holes:MountingHole_3.5mm   \n",
      "28                   Mounting_Holes:MountingHole_3.5mm   \n",
      "29                   Mounting_Holes:MountingHole_3.5mm   \n",
      "30   Measurement_Points:Test_Point_Keystone_5019_Mi...   \n",
      "..                                                 ...   \n",
      "75                                Resistors_SMD:R_0805   \n",
      "76                                Resistors_SMD:R_0805   \n",
      "77                                QFN50P300X300X80-17N   \n",
      "78                                                       \n",
      "79                                Resistors_SMD:R_0402   \n",
      "80                                Resistors_SMD:R_0402   \n",
      "81                                       LEDs:LED_0603   \n",
      "82                                                       \n",
      "83                                                       \n",
      "84                                                       \n",
      "85                               Capacitors_SMD:C_1210   \n",
      "86                               Capacitors_SMD:C_0805   \n",
      "87                                       XPL2010-682ML   \n",
      "88                                 Diode_SMD;D_SOD-123   \n",
      "89                                      Capacitors_SMD   \n",
      "90                               Capacitors_SMD:C_0603   \n",
      "91                               Capacitors_SMD:C_1206   \n",
      "92                                                       \n",
      "93                                Resistors_SMD:R_0402   \n",
      "94                                Resistors_SMD:R_0402   \n",
      "95                                Resistors_SMD:R_0402   \n",
      "96                                Resistors_SMD:R_0402   \n",
      "97                                       LEDs:LED_0603   \n",
      "98                                Resistors_SMD:R_0402   \n",
      "99                               Capacitors_SMD:C_1206   \n",
      "100                              Capacitors_SMD:C_0603   \n",
      "101                                Diode_SMD;D_SOD-123   \n",
      "102                                      XPL2010-472ML   \n",
      "103                               Diodes_SMD:D_SOD-323   \n",
      "104                               Diodes_SMD:D_SOD-323   \n",
      "\n",
      "                                             Datasheet           Manufacturer  \\\n",
      "1        http://www.keyelco.com/product-pdf.cfm?p=1357   Keystone Electronics   \n",
      "2    https://content.kemet.com/datasheets/KEM_C1002...                  Kemet   \n",
      "3    https://industrial.panasonic.com/ww/products/c...              Panasonic   \n",
      "4    https://media.digikey.com/pdf/Data%20Sheets/Li...                 LITEON   \n",
      "5    https://media.digikey.com/pdf/Data%20Sheets/Li...                 LITEON   \n",
      "6    https://industrial.panasonic.com/cdbs/www-data...             Panasonics   \n",
      "7    http://www.te.com/commerce/DocumentDelivery/DD...        TE Connectivity   \n",
      "8    https://www.mouser.com/datasheet/2/400/SIOV_Le...              TDK/EPCOS   \n",
      "9    https://www.meanwell.com/Upload/PDF/IRM-05/IRM...               MeanWell   \n",
      "10   https://www.meanwell.com/Upload/PDF/IRM-05/IRM...               MeanWell   \n",
      "11   http://www.te.com/commerce/DocumentDelivery/DD...        TE Connectivity   \n",
      "12   https://toshiba.semicon-storage.com/info/docge...                Toshiba   \n",
      "13   https://toshiba.semicon-storage.com/info/docge...                Toshiba   \n",
      "14   https://www.te.com/commerce/DocumentDelivery/D...        TE Connectivity   \n",
      "15   https://toshiba.semicon-storage.com/info/docge...                Toshiba   \n",
      "16   https://toshiba.semicon-storage.com/info/docge...                Toshiba   \n",
      "17   https://www.bourns.com/docs/product-datasheets...                 Bourns   \n",
      "18   https://www.analog.com/media/en/technical-docu...                    NaN   \n",
      "19        http://www.vishay.com/docs/20035/dcrcwe3.pdf                 VISHAY   \n",
      "20        http://www.vishay.com/docs/20035/dcrcwe3.pdf                 VISHAY   \n",
      "21   https://www.mouser.com/datasheet/2/400/lcc_com...                    TDK   \n",
      "22   http://www.te.com/commerce/DocumentDelivery/DD...        TE Connectivity   \n",
      "23   https://www.bourns.com/docs/Product-Datasheets...            Bourns Inc.   \n",
      "24   https://content.kemet.com/datasheets/KEM_C1002...                  Kemet   \n",
      "25   https://content.kemet.com/datasheets/KEM_C1090...                  Kemet   \n",
      "26                                                                        NaN   \n",
      "27                                                                        NaN   \n",
      "28                                                                        NaN   \n",
      "29                                                                        NaN   \n",
      "30       http://www.keyelco.com/product-pdf.cfm?p=1357   Keystone Electronics   \n",
      "..                                                 ...                    ...   \n",
      "75   https://www.seielect.com/Catalog/SEI-RNCS_RNCH...  Stackpole Electronics   \n",
      "76   https://www.seielect.com/Catalog/SEI-RMCF_RMCP...  Stackpole Electronics   \n",
      "77                                                          Linear Technology   \n",
      "78                                                                        NaN   \n",
      "79   https://www.mouser.com/datasheet/2/40/cr05-32-...                    AVX   \n",
      "80       https://www.vishay.com/docs/20035/dcrcwe3.pdf                 VISHAY   \n",
      "81   https://media.digikey.com/pdf/Data%20Sheets/Li...                 LITEON   \n",
      "82                                                                        NaN   \n",
      "83                                                                        NaN   \n",
      "84                                                                        NaN   \n",
      "85   https://www.mouser.com/datasheet/2/40/TAJ_AUTO...                    AVX   \n",
      "86   https://www.yuden.co.jp/productdata/catalog/ml...            Taiyo Yuden   \n",
      "87   https://www.mouser.com/datasheet/2/597/xpl2010...              Coilcraft   \n",
      "88   https://www.diodes.com/assets/Datasheets/ds301...             DIODES INC   \n",
      "89                                                                Taiyo Yuden   \n",
      "90            http://catalogs.avx.com/SurfaceMount.pdf                    AVX   \n",
      "91   https://www.yuden.co.jp/productdata/catalog/ml...            Taiyo Yuden   \n",
      "92                                                   ~                    NaN   \n",
      "93   https://www.mouser.com/datasheet/2/40/cr05-32-...                    AVX   \n",
      "94   https://www.mouser.com/datasheet/2/40/cr05-32-...                    AVX   \n",
      "95   https://www.mouser.com/datasheet/2/40/cr05-32-...                    AVX   \n",
      "96   https://www.mouser.com/datasheet/2/40/cr05-32-...                    AVX   \n",
      "97   https://media.digikey.com/pdf/Data%20Sheets/Li...                 LITEON   \n",
      "98   https://www.mouser.com/datasheet/2/40/cr05-32-...                    AVX   \n",
      "99   https://www.yuden.co.jp/productdata/catalog/ml...            Taiyo Yuden   \n",
      "100           http://catalogs.avx.com/SurfaceMount.pdf                    AVX   \n",
      "101  https://www.diodes.com/assets/Datasheets/ds301...             DIODES INC   \n",
      "102  https://www.mouser.com/datasheet/2/597/xpl2010...              Coilcraft   \n",
      "103  https://toshiba.semicon-storage.com/info/docge...                Toshiba   \n",
      "104  https://toshiba.semicon-storage.com/info/docge...                Toshiba   \n",
      "\n",
      "    Manufacturer Part Number Alt. Manufacturer Alt. Manufacturer Part Number  \n",
      "1                       5019                                                  \n",
      "2           C0805C104J8RACTU                                                  \n",
      "3              EEE-FP1C470AP                                                  \n",
      "4               LTST-C190GKT                                                  \n",
      "5               LTST-C190GKT                                                  \n",
      "6              ERA-3AED2490V                                                  \n",
      "7                  1217861-1                                                  \n",
      "8            B72214S0271K101                                                  \n",
      "9                   IRM-05-5                                                  \n",
      "10                  IRM-05-5                                                  \n",
      "11                 1217861-1                                                  \n",
      "12              CUS08F30,H3F                                                  \n",
      "13              CUS08F30,H3F                                                  \n",
      "14                  640445-3                                                  \n",
      "15              CUS08F30,H3F                                                  \n",
      "16              CUS08F30,H3F                                                  \n",
      "17                   7408-RC                                                  \n",
      "18                       NaN                                                  \n",
      "19          CRCW060388K7FKEA                                                  \n",
      "20          CRCW0603274KFKEA                                                  \n",
      "21            C3225X7R1E106M                                                  \n",
      "22                 1217861-1                                                  \n",
      "23          CR0805-J/-1R0ELF                                                  \n",
      "24          C0805C684K5RACTU                                                  \n",
      "25        C0805C104K5RECAUTO                                                  \n",
      "26                       NaN                                                  \n",
      "27                       NaN                                                  \n",
      "28                       NaN                                                  \n",
      "29                       NaN                                                  \n",
      "30                      5019                                                  \n",
      "..                       ...               ...                           ...  \n",
      "75           RNCS0805BKE200R                                                  \n",
      "76            RMCF0805FT10K0                                                  \n",
      "77            LT3582EUD-5PBF                                                  \n",
      "78                       NaN                                                  \n",
      "79               CR05-2101FM                                                  \n",
      "80            CRCW040220001F                                                  \n",
      "81              LTST-C190GKT                                                  \n",
      "82                       NaN                                                  \n",
      "83                       NaN                                                  \n",
      "84                       NaN                                                  \n",
      "85               TAJB476M010                                                  \n",
      "86           JMK212BJ475MG-T                                                  \n",
      "87             XPL2010-682ML                                                  \n",
      "88                B0540W-7-F                                                  \n",
      "89             EMK316BJ105ML                                                  \n",
      "90            06033C103KAT2A                                                  \n",
      "91             EMK316BJ475ML                                                  \n",
      "92                       NaN                                                  \n",
      "93                CR05-1R0JM                                                  \n",
      "94               CR05-1241FM                                                  \n",
      "95                CR05-681JM                                                  \n",
      "96                CR05-681JM                                                  \n",
      "97              LTST-C190GKT                                                  \n",
      "98                CR05-100JM                                                  \n",
      "99             EMK316BJ475ML                                                  \n",
      "100           06033C103KAT2A                                                  \n",
      "101               B0540W-7-F                                                  \n",
      "102            XPL2010-472ML                                                  \n",
      "103             CUS08F30,H3F                                                  \n",
      "104             CUS08F30,H3F                                                  \n",
      "\n",
      "[104 rows x 8 columns]\n"
     ]
    }
   ],
   "source": [
    "print(headers)\n",
    "print(type(df))\n",
    "print(df.shape, df.size)\n",
    "print(df)"
   ]
  },
  {
   "cell_type": "code",
   "execution_count": 20,
   "metadata": {
    "tags": []
   },
   "outputs": [],
   "source": [
    "# lib_path = os.getcwd()\n",
    "\n",
    "# with open('ECG_MOUSE', 'w') as library:\n",
    "#     # library.write(df.to_string(index = False, na_rep = '<>', col_space = 0))\n",
    "#     tonk = df.to_csv(na_rep = '', \n",
    "#                         index = False,\n",
    "#                         sep = '^').replace('\\n', '\\n\"')\n",
    "#     tonk = tonk.replace('^', '\",\"').replace('\",\"', ',', len(df.columns.values.tolist()))\n",
    "#     library.write(tonk)\n",
    "# for root, dirs, files in os.walk(lib_path):\n",
    "#     # print(root)\n",
    "#     # print(dirs)\n",
    "#     print(files)"
   ]
  },
  {
   "cell_type": "markdown",
   "metadata": {},
   "source": [
    "____\n",
    "## Creating the Library (From .csv)"
   ]
  },
  {
   "cell_type": "code",
   "execution_count": 21,
   "metadata": {},
   "outputs": [],
   "source": [
    "import os, sys\n",
    "import shutil\n",
    "import pandas as pd\n",
    "import numpy as np\n"
   ]
  },
  {
   "cell_type": "code",
   "execution_count": 22,
   "metadata": {},
   "outputs": [],
   "source": [
    "# %%javascript\n",
    "# IPython.OutputArea.auto_scroll_threshold = 9999;"
   ]
  },
  {
   "cell_type": "code",
   "execution_count": 23,
   "metadata": {},
   "outputs": [],
   "source": [
    "# os.chdir(main)\n",
    "# os.getcwd()"
   ]
  },
  {
   "cell_type": "code",
   "execution_count": 24,
   "metadata": {
    "tags": []
   },
   "outputs": [
    {
     "name": "stdout",
     "output_type": "stream",
     "text": [
      "prj:  c:\\Users\\jgoss\\Documents\\_Olin\\DRF_engineering\\LibGen_KiCad\\tests_ignore\n"
     ]
    }
   ],
   "source": [
    "# main = os.getcwd()\n",
    "# print('main: ', main)\n",
    "# os.chdir(main + '\\\\' + 'tests_ignore')\n",
    "prj = os.getcwd()\n",
    "print('prj: ', prj)"
   ]
  },
  {
   "cell_type": "code",
   "execution_count": 25,
   "metadata": {
    "tags": []
   },
   "outputs": [],
   "source": [
    "with open('ECG_MOUSE-cache.lib', 'r') as raw:\n",
    "    raw = raw.read().split('ENDDEF\\n')\n",
    "    compdetails = dict()\n",
    "    for item in raw:\n",
    "        if 'R-Device' in item:\n",
    "            compdetails.update({'res' : item})\n",
    "        if 'C-Device' in item:\n",
    "            compdetails.update({'c' : item})\n",
    "        # if 'C_Small' in item:\n",
    "        #     compdetails.update({'csmall' : item})\n",
    "\n",
    "        if 'CP-Device' in item:\n",
    "            compdetails.update({'cp' : item})\n",
    "            #draw unpolarized cap\n",
    "#         if 'CP_Small' in item:\n",
    "#             compdetails.update({'cpsmall' : item})\n",
    "#             ##draw small unpolarized cap\n",
    "#         if 'CP1-Device' in item:\n",
    "# #             cpdraw_us = item\n",
    "#             compdetails.update({'cp1' : item})\n",
    "#             #draw us symbol capacitor\n",
    "#         if 'CP1_Small' in item:\n",
    "#             compdetails.update({'cp1small' : item})\n",
    "\n",
    "        item = item + 'ENDDEF\\n'\n",
    "# compdetails.update('C0805fp' : 'Capacitors_SMD:C_0805')\n",
    "# compdetails.update('R0805fp' : 'Resistors_SMD:R_0805')\n",
    "        #SAAD DIDN'T GIVE ME FOOTPRINT ACCESS\n",
    "        \n",
    "# print(type(drawer['res']))"
   ]
  },
  {
   "cell_type": "markdown",
   "metadata": {},
   "source": [
    "Library content was successfully taken out and put into a dictionary containing all of the parts details. Now each dictionary entry needs to be replicated and do the desired thing...\n",
    "\n",
    "* Create a passive component (Resistor/Capacitor) with the desired symbol\n",
    "* Assign it a desired value\n",
    "* Insert the other requested fields\n",
    "Then a successful library has been generated for import (if header and footer of file are included)"
   ]
  },
  {
   "cell_type": "markdown",
   "metadata": {},
   "source": [
    "Cool things to do, that would be cool to accelerate this process\n",
    "* A list of desired 0805 resistor/capacitor values for sweeping\n",
    "* A list of desired 0605 resistor/capacitor values for sweeping\n",
    "* The footprint strings that are necessary\n",
    "    * The managing of libraries would have to be done as well\n",
    "* Maybe make a webscraping thing to get these links off of digikey for me?\n",
    "    * Maybe have like a preferred manufacturer?\n",
    "    * Manufacturer & MPN + Alts?\n",
    "* Have a setup that can let me sweep through Saad's other projects as well?\n",
    "    * Full python script that can run in terminal?\n",
    "    * Institute classes and other stuff\n",
    "    * Ask for string input for document sweeping and generation?\n",
    "    * Learn how to implement a GUI?"
   ]
  },
  {
   "cell_type": "code",
   "execution_count": 29,
   "metadata": {
    "tags": []
   },
   "outputs": [
    {
     "name": "stdout",
     "output_type": "stream",
     "text": [
      "#\n",
      "# ECG_Mouse_R-Device\n",
      "#\n",
      "DEF ECG_Mouse_R-Device R 0 0 N Y 1 F N\n",
      "F0 \"R\" 80 0 50 V V C CNN\n",
      "F1 \"ECG_Mouse_R-Device\" 0 0 50 V V C CNN\n",
      "F2 \"\" -70 0 50 V I C CNN\n",
      "F3 \"\" 0 0 50 H I C CNN\n",
      "$FPLIST\n",
      " R_*\n",
      "$ENDFPLIST\n",
      "DRAW\n",
      "S -40 -100 40 100 0 1 10 N\n",
      "X ~ 1 0 150 50 D 50 50 1 1 P\n",
      "X ~ 2 0 -150 50 U 50 50 1 1 P\n",
      "ENDDRAW\n",
      "\n"
     ]
    }
   ],
   "source": [
    "def libadd (name, f0, f1, f2, f3, typ):\\\n",
    "    \"\"\"\n",
    "        xDEF = definition\n",
    "        f0 = reference\n",
    "        f1 = name/definition\n",
    "        f2 = footprint\n",
    "        f3 = datasheet\n",
    "        f4 = manufacturer\n",
    "        f5 = mpn\n",
    "        f6 = alt manufacturer\n",
    "        f7 alt mpn\n",
    "\"\"\"\n",
    "    head = '#\\n#\\n {k}\\n#'.format(k=name)\n",
    "    if typ == R:\n",
    "        RDEF = 'DEF {k} R 0 0 N Y 1 F N'.format(k=name)\n",
    "        field0 = 'F0 \"{k}\" 80 0 50 V V C CNN'.format(k=f0)\n",
    "        field1 = 'F1 \"{k}\" 80 0 50 V V C CNN'.format(k=f1)\n",
    "        field2 = 'F2 \"{k}\" 80 0 50 V V C CNN'.format(k=f2)\n",
    "        field3 = 'F3 \"{k}\" 0 0 50 H I C CNN'.format(k=f3)\n",
    "        # if '\"R\"' in compdetails['res']:\n",
    "\n",
    "        fpdraw = ['$FPLIST\\n R_*\\n', compdetails['res'].find('$FPLIST')]\n",
    "        fpdraw = compdetails['res']\n",
    "        \n",
    "    if typ == C:\n",
    "        CDEF = 'DEF {k} C 0 10 N Y F N'.format(k=name)\n",
    "        field0 = 'F0 \"{k}\" 25 100 50 H V L CNN'.format(k=f0)\n",
    "        field1 = 'F1 \"{k}\" 25 -100 50 H V L CNN'.format(k=f1) \n",
    "        field2 = 'F2 \"{k}\" 38 -150 50 H I C CNN'.format(k=f2)\n",
    "        field3 = 'F3 \"{k}\" 0 0 50 H I C CNN'.format(k=f3)\n",
    "\n",
    "\n",
    "libadd('thing0', 'thing1', 'thing2', 'thing3', compdetails['res'])"
   ]
  },
  {
   "cell_type": "code",
   "execution_count": 26,
   "metadata": {},
   "outputs": [
    {
     "ename": "SyntaxError",
     "evalue": "invalid syntax (<ipython-input-26-b1b8dbcbad97>, line 4)",
     "output_type": "error",
     "traceback": [
      "\u001b[1;36m  File \u001b[1;32m\"<ipython-input-26-b1b8dbcbad97>\"\u001b[1;36m, line \u001b[1;32m4\u001b[0m\n\u001b[1;33m    libby.write(init_lines(0:2))\u001b[0m\n\u001b[1;37m                            ^\u001b[0m\n\u001b[1;31mSyntaxError\u001b[0m\u001b[1;31m:\u001b[0m invalid syntax\n"
     ]
    }
   ],
   "source": [
    "with open('templibrary.lib' 'w') as libby:\n",
    "    with open('ECG_MOUSE.lib', 'r') as ecg:\n",
    "        initlines = ecg.readlines()\n",
    "        libby.write(init_lines(0:2))\n",
    "    for part in df.itertuples():\n",
    "        if 'R' in part[1] and 'RV' not in part[1]:\n",
    "            libby.write(compdetails['res'])\n",
    "        if 'C' in part[1] and ['IP', 'IC'] not in part[1]:\n",
    "            libby.write(compdetails['res'])\n",
    "\n",
    "\n",
    "    "
   ]
  },
  {
   "cell_type": "code",
   "execution_count": 35,
   "metadata": {
    "tags": []
   },
   "outputs": [
    {
     "name": "stdout",
     "output_type": "stream",
     "text": [
      "<class 'str'>\n",
      "202\n",
      "293\n"
     ]
    }
   ],
   "source": [
    "print(type(compdetails['res']))\n",
    "print(compdetails['res'].find('DRAW'))\n",
    "print(compdetails['res'].find('ENDDRAW'))"
   ]
  },
  {
   "cell_type": "code",
   "execution_count": null,
   "metadata": {},
   "outputs": [],
   "source": [
    "# print(df.loc[:, 'Reference']) #prints the entire column with index\n",
    "# print(df.iloc[4:10])    #prints entire row with headers, takes in integers"
   ]
  },
  {
   "cell_type": "markdown",
   "metadata": {},
   "source": [
    "_______\n",
    "## Extracting from the Netlist"
   ]
  },
  {
   "cell_type": "code",
   "execution_count": null,
   "metadata": {
    "tags": []
   },
   "outputs": [],
   "source": [
    "with open('ECG_MOUSE.net', 'r') as netlist:\n",
    "    temp = netlist.read()\n",
    "    startcomp, endcomp = temp.find('(component'), temp.find('(libparts')\n",
    "    # print(type(startcomp), startcomp, endcomp)\n",
    "    # print(temp[endcomp])\n",
    "    temp = temp[startcomp:endcomp]\n",
    "#     print(temp)\n",
    "            # the components section has been extracted\n",
    "    with open('netcomp.lib', 'w') as nc: \n",
    "            #netlist of components == netcomp\n",
    "        nc.write(temp)\n",
    "        "
   ]
  },
  {
   "cell_type": "code",
   "execution_count": null,
   "metadata": {
    "tags": []
   },
   "outputs": [],
   "source": [
    "# ha = 'abcdefghijklmnop\\n' + \\\n",
    "        # 'qrstuvwxyz\\n' + 'button! up'\n",
    "# print(ha.find('j', end=ha.find('button!')))\n",
    "# ha.find('button!')\n",
    "thing = 'thing'\n",
    "print(type(thing[0]))"
   ]
  },
  {
   "cell_type": "code",
   "execution_count": null,
   "metadata": {},
   "outputs": [],
   "source": [
    "# print(df)"
   ]
  },
  {
   "cell_type": "code",
   "execution_count": null,
   "metadata": {},
   "outputs": [],
   "source": []
  }
 ],
 "metadata": {
  "kernelspec": {
   "display_name": "Python 3",
   "language": "python",
   "name": "python3"
  },
  "language_info": {
   "codemirror_mode": {
    "name": "ipython",
    "version": 3
   },
   "file_extension": ".py",
   "mimetype": "text/x-python",
   "name": "python",
   "nbconvert_exporter": "python",
   "pygments_lexer": "ipython3",
   "version": "3.6.6"
  }
 },
 "nbformat": 4,
 "nbformat_minor": 2
}
